{
  "cells": [
    {
      "cell_type": "markdown",
      "metadata": {
        "id": "VsnuIr99_f5z"
      },
      "source": [
        "#Installation Stuffs"
      ]
    },
    {
      "cell_type": "code",
      "execution_count": null,
      "metadata": {
        "colab": {
          "base_uri": "https://localhost:8080/",
          "height": 36
        },
        "id": "eF_tRqS61xxi",
        "outputId": "c243a9fc-bd83-49f7-b037-16ee95cad022"
      },
      "outputs": [
        {
          "output_type": "execute_result",
          "data": {
            "text/plain": [
              "'/content'"
            ],
            "application/vnd.google.colaboratory.intrinsic+json": {
              "type": "string"
            }
          },
          "metadata": {},
          "execution_count": 1
        }
      ],
      "source": [
        "pwd"
      ]
    },
    {
      "cell_type": "code",
      "execution_count": null,
      "metadata": {
        "id": "cveWSJTB-Zf9"
      },
      "outputs": [],
      "source": [
        "# timestamp\n",
        "from datetime import datetime\n",
        "now = datetime.now() # current date and time\n",
        "date_time = now.strftime(\"%m-%d-%Y-%H-%M-%S\")"
      ]
    },
    {
      "cell_type": "code",
      "execution_count": null,
      "metadata": {
        "colab": {
          "base_uri": "https://localhost:8080/"
        },
        "id": "eD7bJVoXIx32",
        "outputId": "181dfb10-940a-4d67-940d-73f57bcf1a7f"
      },
      "outputs": [
        {
          "output_type": "stream",
          "name": "stdout",
          "text": [
            "05-16-2023-13-22-44\n"
          ]
        }
      ],
      "source": [
        "print(date_time)"
      ]
    },
    {
      "cell_type": "markdown",
      "metadata": {
        "id": "bAWaYIDuCe7T"
      },
      "source": [
        "##GPU Init"
      ]
    },
    {
      "cell_type": "code",
      "execution_count": null,
      "metadata": {
        "colab": {
          "base_uri": "https://localhost:8080/"
        },
        "id": "v3iIFFRHCo8-",
        "outputId": "b15f9e5e-e5b8-4180-a2fe-0fe5704d18f8"
      },
      "outputs": [
        {
          "output_type": "stream",
          "name": "stdout",
          "text": [
            "Found GPU at: /device:GPU:0\n"
          ]
        }
      ],
      "source": [
        "# %tensorflow_version 2.x\n",
        "import tensorflow as tf\n",
        "device_name = tf.test.gpu_device_name()\n",
        "if device_name != '/device:GPU:0':\n",
        "  raise SystemError('GPU device not found')\n",
        "print('Found GPU at: {}'.format(device_name))"
      ]
    },
    {
      "cell_type": "code",
      "execution_count": null,
      "metadata": {
        "colab": {
          "base_uri": "https://localhost:8080/"
        },
        "id": "QgOwO5MHC1Xx",
        "outputId": "29dbf5eb-41a8-46cd-fd7d-4935ed6181a8"
      },
      "outputs": [
        {
          "output_type": "stream",
          "name": "stdout",
          "text": [
            "2.12.0\n"
          ]
        }
      ],
      "source": [
        "print(tf.__version__)"
      ]
    },
    {
      "cell_type": "code",
      "execution_count": null,
      "metadata": {
        "colab": {
          "base_uri": "https://localhost:8080/"
        },
        "id": "oTEZgxL1NFgk",
        "outputId": "70096008-9fc9-44f9-f1ef-25b65553bb40"
      },
      "outputs": [
        {
          "output_type": "stream",
          "name": "stdout",
          "text": [
            "Cloning into 'indonlu'...\n",
            "remote: Enumerating objects: 460, done.\u001b[K\n",
            "remote: Counting objects: 100% (148/148), done.\u001b[K\n",
            "remote: Compressing objects: 100% (40/40), done.\u001b[K\n",
            "remote: Total 460 (delta 119), reused 108 (delta 108), pack-reused 312\u001b[K\n",
            "Receiving objects: 100% (460/460), 4.83 MiB | 19.18 MiB/s, done.\n",
            "Resolving deltas: 100% (229/229), done.\n"
          ]
        }
      ],
      "source": [
        "!git clone https://github.com/ezaaputra/indonlu.git"
      ]
    },
    {
      "cell_type": "code",
      "execution_count": null,
      "metadata": {
        "colab": {
          "base_uri": "https://localhost:8080/"
        },
        "id": "t2UzxOw9NChf",
        "outputId": "d7ae9c34-eb86-40b2-eb72-15c76e8636e5"
      },
      "outputs": [
        {
          "output_type": "stream",
          "name": "stdout",
          "text": [
            "\u001b[?25l     \u001b[90m━━━━━━━━━━━━━━━━━━━━━━━━━━━━━━━━━━━━━━━━\u001b[0m \u001b[32m0.0/17.3 MB\u001b[0m \u001b[31m?\u001b[0m eta \u001b[36m-:--:--\u001b[0m\r\u001b[2K     \u001b[91m━━━━━\u001b[0m\u001b[90m╺\u001b[0m\u001b[90m━━━━━━━━━━━━━━━━━━━━━━━━━━━━━━━━━━\u001b[0m \u001b[32m2.2/17.3 MB\u001b[0m \u001b[31m65.7 MB/s\u001b[0m eta \u001b[36m0:00:01\u001b[0m\r\u001b[2K     \u001b[91m━━━━━━━━━━━━━━━━━━━━━━━\u001b[0m\u001b[91m╸\u001b[0m\u001b[90m━━━━━━━━━━━━━━━\u001b[0m \u001b[32m10.4/17.3 MB\u001b[0m \u001b[31m156.0 MB/s\u001b[0m eta \u001b[36m0:00:01\u001b[0m\r\u001b[2K     \u001b[91m━━━━━━━━━━━━━━━━━━━━━━━━━━━━━━━━━━━━━━\u001b[0m\u001b[91m╸\u001b[0m \u001b[32m17.3/17.3 MB\u001b[0m \u001b[31m254.7 MB/s\u001b[0m eta \u001b[36m0:00:01\u001b[0m\r\u001b[2K     \u001b[91m━━━━━━━━━━━━━━━━━━━━━━━━━━━━━━━━━━━━━━\u001b[0m\u001b[91m╸\u001b[0m \u001b[32m17.3/17.3 MB\u001b[0m \u001b[31m254.7 MB/s\u001b[0m eta \u001b[36m0:00:01\u001b[0m\r\u001b[2K     \u001b[90m━━━━━━━━━━━━━━━━━━━━━━━━━━━━━━━━━━━━━━━━\u001b[0m \u001b[32m17.3/17.3 MB\u001b[0m \u001b[31m93.9 MB/s\u001b[0m eta \u001b[36m0:00:00\u001b[0m\n",
            "\u001b[?25h\u001b[31mERROR: pip's dependency resolver does not currently take into account all the packages that are installed. This behaviour is the source of the following dependency conflicts.\n",
            "numba 0.56.4 requires numpy<1.24,>=1.18, but you have numpy 1.24.3 which is incompatible.\n",
            "tensorflow 2.12.0 requires numpy<1.24,>=1.22, but you have numpy 1.24.3 which is incompatible.\u001b[0m\u001b[31m\n",
            "\u001b[2K     \u001b[90m━━━━━━━━━━━━━━━━━━━━━━━━━━━━━━━━━━━━━━━━\u001b[0m \u001b[32m12.3/12.3 MB\u001b[0m \u001b[31m29.9 MB/s\u001b[0m eta \u001b[36m0:00:00\u001b[0m\n",
            "\u001b[?25h\u001b[31mERROR: pip's dependency resolver does not currently take into account all the packages that are installed. This behaviour is the source of the following dependency conflicts.\n",
            "google-colab 1.0.0 requires pandas~=1.5.3, but you have pandas 2.0.1 which is incompatible.\u001b[0m\u001b[31m\n",
            "\u001b[0m"
          ]
        }
      ],
      "source": [
        "!pip -q install numpy --upgrade\n",
        "!pip -q install pandas --upgrade"
      ]
    },
    {
      "cell_type": "code",
      "execution_count": null,
      "metadata": {
        "colab": {
          "base_uri": "https://localhost:8080/"
        },
        "id": "qrGEdIry-yrI",
        "outputId": "72e538a7-8fc3-49d6-f4cc-382869093a85"
      },
      "outputs": [
        {
          "output_type": "stream",
          "name": "stdout",
          "text": [
            "\u001b[?25l     \u001b[90m━━━━━━━━━━━━━━━━━━━━━━━━━━━━━━━━━━━━━━━━\u001b[0m \u001b[32m0.0/353.7 kB\u001b[0m \u001b[31m?\u001b[0m eta \u001b[36m-:--:--\u001b[0m\r\u001b[2K     \u001b[90m━━━━━━━━━━━━━━━━━━━━━━━━━━━━━━━━━━━━━━\u001b[0m \u001b[32m353.7/353.7 kB\u001b[0m \u001b[31m22.8 MB/s\u001b[0m eta \u001b[36m0:00:00\u001b[0m\n",
            "\u001b[?25h  Preparing metadata (setup.py) ... \u001b[?25l\u001b[?25hdone\n",
            "  Building wheel for emoji (setup.py) ... \u001b[?25l\u001b[?25hdone\n",
            "\u001b[2K     \u001b[90m━━━━━━━━━━━━━━━━━━━━━━━━━━━━━━━━━━━━━━━\u001b[0m \u001b[32m109.1/109.1 MB\u001b[0m \u001b[31m9.0 MB/s\u001b[0m eta \u001b[36m0:00:00\u001b[0m\n",
            "\u001b[2K     \u001b[90m━━━━━━━━━━━━━━━━━━━━━━━━━━━━━━━━━━━━━━━━\u001b[0m \u001b[32m7.1/7.1 MB\u001b[0m \u001b[31m107.0 MB/s\u001b[0m eta \u001b[36m0:00:00\u001b[0m\n",
            "\u001b[2K     \u001b[90m━━━━━━━━━━━━━━━━━━━━━━━━━━━━━━━━━━━━━━\u001b[0m \u001b[32m236.8/236.8 kB\u001b[0m \u001b[31m28.3 MB/s\u001b[0m eta \u001b[36m0:00:00\u001b[0m\n",
            "\u001b[2K     \u001b[90m━━━━━━━━━━━━━━━━━━━━━━━━━━━━━━━━━━━━━━━━\u001b[0m \u001b[32m7.8/7.8 MB\u001b[0m \u001b[31m121.9 MB/s\u001b[0m eta \u001b[36m0:00:00\u001b[0m\n",
            "\u001b[?25h\u001b[31mERROR: Could not find a version that satisfies the requirement cuda (from versions: none)\u001b[0m\u001b[31m\n",
            "\u001b[0m\u001b[31mERROR: No matching distribution found for cuda\u001b[0m\u001b[31m\n",
            "\u001b[2K     \u001b[90m━━━━━━━━━━━━━━━━━━━━━━━━━━━━━━━━━━━━━━\u001b[0m \u001b[32m209.7/209.7 kB\u001b[0m \u001b[31m17.2 MB/s\u001b[0m eta \u001b[36m0:00:00\u001b[0m\n",
            "\u001b[2K     \u001b[90m━━━━━━━━━━━━━━━━━━━━━━━━━━━━━━━━━━━━━━\u001b[0m \u001b[32m153.0/153.0 kB\u001b[0m \u001b[31m16.4 MB/s\u001b[0m eta \u001b[36m0:00:00\u001b[0m\n",
            "\u001b[2K     \u001b[90m━━━━━━━━━━━━━━━━━━━━━━━━━━━━━━━━━━━━━━\u001b[0m \u001b[32m210.6/210.6 kB\u001b[0m \u001b[31m16.2 MB/s\u001b[0m eta \u001b[36m0:00:00\u001b[0m\n",
            "\u001b[2K     \u001b[90m━━━━━━━━━━━━━━━━━━━━━━━━━━━━━━━━━━━━━━━━\u001b[0m \u001b[32m2.6/2.6 MB\u001b[0m \u001b[31m64.7 MB/s\u001b[0m eta \u001b[36m0:00:00\u001b[0m\n",
            "\u001b[2K     \u001b[90m━━━━━━━━━━━━━━━━━━━━━━━━━━━━━━━━━━━━━━━━\u001b[0m \u001b[32m17.3/17.3 MB\u001b[0m \u001b[31m92.1 MB/s\u001b[0m eta \u001b[36m0:00:00\u001b[0m\n",
            "\u001b[2K     \u001b[90m━━━━━━━━━━━━━━━━━━━━━━━━━━━━━━━━━━━━━━━\u001b[0m \u001b[32m12.3/12.3 MB\u001b[0m \u001b[31m105.0 MB/s\u001b[0m eta \u001b[36m0:00:00\u001b[0m\n",
            "\u001b[?25h\u001b[31mERROR: pip's dependency resolver does not currently take into account all the packages that are installed. This behaviour is the source of the following dependency conflicts.\n",
            "google-colab 1.0.0 requires pandas==1.5.3, but you have pandas 2.0.2 which is incompatible.\n",
            "numba 0.56.4 requires numpy<1.24,>=1.18, but you have numpy 1.24.3 which is incompatible.\n",
            "tensorflow 2.12.0 requires numpy<1.24,>=1.22, but you have numpy 1.24.3 which is incompatible.\u001b[0m\u001b[31m\n",
            "\u001b[0m"
          ]
        }
      ],
      "source": [
        "!pip install -q emoji\n",
        "!pip install -q xformers\n",
        "!pip install -q transformers\n",
        "!pip install -q torch\n",
        "!pip install -q cuda\n",
        "!pip install -U -q PyDrive\n",
        "!pip -q install Sastrawi\n",
        "!pip -q install xlsxwriter\n",
        "!pip -q install PySastrawi\n",
        "!pip -q install pyLDAvis"
      ]
    },
    {
      "cell_type": "markdown",
      "metadata": {
        "id": "4MAKgiaFCmNu"
      },
      "source": [
        "##Drive Mount"
      ]
    },
    {
      "cell_type": "code",
      "execution_count": null,
      "metadata": {
        "colab": {
          "base_uri": "https://localhost:8080/"
        },
        "id": "zQGBBlg5CoAu",
        "outputId": "e409c8e9-76de-4909-974d-c7708755e5bf"
      },
      "outputs": [
        {
          "output_type": "stream",
          "name": "stdout",
          "text": [
            "Mounted at /content/drive\n"
          ]
        }
      ],
      "source": [
        "from google.colab import drive\n",
        "drive.mount('/content/drive') # mount supaya bisa akses file di Drive"
      ]
    },
    {
      "cell_type": "markdown",
      "metadata": {
        "id": "zTi88DVN_kcx"
      },
      "source": [
        "#Imports"
      ]
    },
    {
      "cell_type": "code",
      "execution_count": null,
      "metadata": {
        "id": "8m12zPiY_oXJ"
      },
      "outputs": [],
      "source": [
        "# Generals\n",
        "import pandas as pd\n",
        "pd.set_option('display.max_rows', 500)\n",
        "pd.set_option('display.width', 5000)\n",
        "pd.set_option('display.max_columns', 500)\n",
        "\n",
        "import numpy as np\n",
        "import re\n",
        "import random\n",
        "import torch\n",
        "import json\n",
        "from sklearn.model_selection import train_test_split\n",
        "from sklearn.metrics import confusion_matrix\n",
        "from sklearn.metrics import classification_report, f1_score, accuracy_score, confusion_matrix, recall_score, precision_score\n",
        "from collections import defaultdict\n",
        "from pydrive.auth import GoogleAuth\n",
        "from pydrive.drive import GoogleDrive\n",
        "from google.colab import auth"
      ]
    },
    {
      "cell_type": "code",
      "execution_count": null,
      "metadata": {
        "id": "mOe5yJzg_x_j"
      },
      "outputs": [],
      "source": [
        "# Visualization\n",
        "import matplotlib.pyplot as plt\n",
        "import seaborn as sns\n",
        "import matplotlib as mpl\n",
        "import matplotlib.pyplot as plt\n",
        "import warnings # to modify warnings\n",
        "warnings.filterwarnings('ignore') # ignoring warnings\n",
        "sns.set_style('darkgrid')\n",
        "\n",
        "# Make the graphs a bit prettier, and bigger\n",
        "plt.style.use('ggplot')\n",
        "plt.rcParams['font.family'] = 'sans-serif'\n",
        "plt.rcParams['figure.figsize'] = (10, 5)"
      ]
    },
    {
      "cell_type": "code",
      "execution_count": null,
      "metadata": {
        "id": "7UlPQU75_v3b"
      },
      "outputs": [],
      "source": [
        "# IndoBERT Model\n",
        "import random\n",
        "import torch\n",
        "import torch.nn.functional as F\n",
        "from torch import optim\n",
        "from tqdm import tqdm\n",
        "\n",
        "from transformers import BertForSequenceClassification, BertConfig, BertTokenizer\n",
        "from indonlu.utils.data_utils import DocumentSentimentDataset, DocumentSentimentDataLoader\n",
        "from indonlu.utils.forward_fn import forward_sequence_classification\n",
        "from indonlu.utils.metrics import document_sentiment_metrics_fn"
      ]
    },
    {
      "cell_type": "code",
      "execution_count": null,
      "metadata": {
        "colab": {
          "base_uri": "https://localhost:8080/"
        },
        "id": "cge1fF4Z_ubo",
        "outputId": "bcaedab1-918b-4f9e-ca18-f7b4a8573211"
      },
      "outputs": [
        {
          "output_type": "stream",
          "name": "stderr",
          "text": [
            "[nltk_data] Downloading package punkt to /root/nltk_data...\n",
            "[nltk_data]   Package punkt is already up-to-date!\n",
            "[nltk_data] Downloading package stopwords to /root/nltk_data...\n",
            "[nltk_data]   Package stopwords is already up-to-date!\n",
            "[nltk_data] Downloading package wordnet to /root/nltk_data...\n",
            "[nltk_data]   Package wordnet is already up-to-date!\n",
            "[nltk_data] Downloading package omw-1.4 to /root/nltk_data...\n",
            "[nltk_data]   Package omw-1.4 is already up-to-date!\n"
          ]
        }
      ],
      "source": [
        "# NLP\n",
        "import emoji\n",
        "import nltk\n",
        "import re, string, unicodedata\n",
        "nltk.download('punkt')\n",
        "nltk.download('stopwords')\n",
        "nltk.download('wordnet')\n",
        "nltk.download('omw-1.4')\n",
        "\n",
        "from nltk.tokenize import word_tokenize, sent_tokenize\n",
        "from nltk.corpus import stopwords\n",
        "from Sastrawi.Stemmer.StemmerFactory import StemmerFactory"
      ]
    },
    {
      "cell_type": "code",
      "execution_count": null,
      "metadata": {
        "id": "UWwyo5lqChHY"
      },
      "outputs": [],
      "source": [
        "df_new = pd.read_csv(\"cleaned-all-final.CSV\")"
      ]
    },
    {
      "cell_type": "code",
      "execution_count": null,
      "metadata": {
        "colab": {
          "base_uri": "https://localhost:8080/",
          "height": 206
        },
        "id": "jqOzLHLzJqaG",
        "outputId": "342e1623-63d7-4823-e548-32f1735620b6"
      },
      "outputs": [
        {
          "data": {
            "text/html": [
              "\n",
              "  <div id=\"df-de995652-fccf-4a68-960a-d86ab6205111\">\n",
              "    <div class=\"colab-df-container\">\n",
              "      <div>\n",
              "<style scoped>\n",
              "    .dataframe tbody tr th:only-of-type {\n",
              "        vertical-align: middle;\n",
              "    }\n",
              "\n",
              "    .dataframe tbody tr th {\n",
              "        vertical-align: top;\n",
              "    }\n",
              "\n",
              "    .dataframe thead th {\n",
              "        text-align: right;\n",
              "    }\n",
              "</style>\n",
              "<table border=\"1\" class=\"dataframe\">\n",
              "  <thead>\n",
              "    <tr style=\"text-align: right;\">\n",
              "      <th></th>\n",
              "      <th>cleaned_text</th>\n",
              "      <th>sentiment_status</th>\n",
              "    </tr>\n",
              "  </thead>\n",
              "  <tbody>\n",
              "    <tr>\n",
              "      <th>0</th>\n",
              "      <td>jerit sopir angkutan kota kota bandung beli pe...</td>\n",
              "      <td>negative</td>\n",
              "    </tr>\n",
              "    <tr>\n",
              "      <th>1</th>\n",
              "      <td>dear kayaknya pengaturan maps tujuan dibenarka...</td>\n",
              "      <td>negative</td>\n",
              "    </tr>\n",
              "    <tr>\n",
              "      <th>2</th>\n",
              "      <td>bus selesai oi odan the way sedadang jaladan h...</td>\n",
              "      <td>negative</td>\n",
              "    </tr>\n",
              "    <tr>\n",
              "      <th>3</th>\n",
              "      <td>eta transportasi masal keluarga garut bandung ...</td>\n",
              "      <td>negative</td>\n",
              "    </tr>\n",
              "    <tr>\n",
              "      <th>4</th>\n",
              "      <td>pagi nya keliling apartemen mencerahkn pagiku ...</td>\n",
              "      <td>negative</td>\n",
              "    </tr>\n",
              "  </tbody>\n",
              "</table>\n",
              "</div>\n",
              "      <button class=\"colab-df-convert\" onclick=\"convertToInteractive('df-de995652-fccf-4a68-960a-d86ab6205111')\"\n",
              "              title=\"Convert this dataframe to an interactive table.\"\n",
              "              style=\"display:none;\">\n",
              "        \n",
              "  <svg xmlns=\"http://www.w3.org/2000/svg\" height=\"24px\"viewBox=\"0 0 24 24\"\n",
              "       width=\"24px\">\n",
              "    <path d=\"M0 0h24v24H0V0z\" fill=\"none\"/>\n",
              "    <path d=\"M18.56 5.44l.94 2.06.94-2.06 2.06-.94-2.06-.94-.94-2.06-.94 2.06-2.06.94zm-11 1L8.5 8.5l.94-2.06 2.06-.94-2.06-.94L8.5 2.5l-.94 2.06-2.06.94zm10 10l.94 2.06.94-2.06 2.06-.94-2.06-.94-.94-2.06-.94 2.06-2.06.94z\"/><path d=\"M17.41 7.96l-1.37-1.37c-.4-.4-.92-.59-1.43-.59-.52 0-1.04.2-1.43.59L10.3 9.45l-7.72 7.72c-.78.78-.78 2.05 0 2.83L4 21.41c.39.39.9.59 1.41.59.51 0 1.02-.2 1.41-.59l7.78-7.78 2.81-2.81c.8-.78.8-2.07 0-2.86zM5.41 20L4 18.59l7.72-7.72 1.47 1.35L5.41 20z\"/>\n",
              "  </svg>\n",
              "      </button>\n",
              "      \n",
              "  <style>\n",
              "    .colab-df-container {\n",
              "      display:flex;\n",
              "      flex-wrap:wrap;\n",
              "      gap: 12px;\n",
              "    }\n",
              "\n",
              "    .colab-df-convert {\n",
              "      background-color: #E8F0FE;\n",
              "      border: none;\n",
              "      border-radius: 50%;\n",
              "      cursor: pointer;\n",
              "      display: none;\n",
              "      fill: #1967D2;\n",
              "      height: 32px;\n",
              "      padding: 0 0 0 0;\n",
              "      width: 32px;\n",
              "    }\n",
              "\n",
              "    .colab-df-convert:hover {\n",
              "      background-color: #E2EBFA;\n",
              "      box-shadow: 0px 1px 2px rgba(60, 64, 67, 0.3), 0px 1px 3px 1px rgba(60, 64, 67, 0.15);\n",
              "      fill: #174EA6;\n",
              "    }\n",
              "\n",
              "    [theme=dark] .colab-df-convert {\n",
              "      background-color: #3B4455;\n",
              "      fill: #D2E3FC;\n",
              "    }\n",
              "\n",
              "    [theme=dark] .colab-df-convert:hover {\n",
              "      background-color: #434B5C;\n",
              "      box-shadow: 0px 1px 3px 1px rgba(0, 0, 0, 0.15);\n",
              "      filter: drop-shadow(0px 1px 2px rgba(0, 0, 0, 0.3));\n",
              "      fill: #FFFFFF;\n",
              "    }\n",
              "  </style>\n",
              "\n",
              "      <script>\n",
              "        const buttonEl =\n",
              "          document.querySelector('#df-de995652-fccf-4a68-960a-d86ab6205111 button.colab-df-convert');\n",
              "        buttonEl.style.display =\n",
              "          google.colab.kernel.accessAllowed ? 'block' : 'none';\n",
              "\n",
              "        async function convertToInteractive(key) {\n",
              "          const element = document.querySelector('#df-de995652-fccf-4a68-960a-d86ab6205111');\n",
              "          const dataTable =\n",
              "            await google.colab.kernel.invokeFunction('convertToInteractive',\n",
              "                                                     [key], {});\n",
              "          if (!dataTable) return;\n",
              "\n",
              "          const docLinkHtml = 'Like what you see? Visit the ' +\n",
              "            '<a target=\"_blank\" href=https://colab.research.google.com/notebooks/data_table.ipynb>data table notebook</a>'\n",
              "            + ' to learn more about interactive tables.';\n",
              "          element.innerHTML = '';\n",
              "          dataTable['output_type'] = 'display_data';\n",
              "          await google.colab.output.renderOutput(dataTable, element);\n",
              "          const docLink = document.createElement('div');\n",
              "          docLink.innerHTML = docLinkHtml;\n",
              "          element.appendChild(docLink);\n",
              "        }\n",
              "      </script>\n",
              "    </div>\n",
              "  </div>\n",
              "  "
            ],
            "text/plain": [
              "                                        cleaned_text sentiment_status\n",
              "0  jerit sopir angkutan kota kota bandung beli pe...         negative\n",
              "1  dear kayaknya pengaturan maps tujuan dibenarka...         negative\n",
              "2  bus selesai oi odan the way sedadang jaladan h...         negative\n",
              "3  eta transportasi masal keluarga garut bandung ...         negative\n",
              "4  pagi nya keliling apartemen mencerahkn pagiku ...         negative"
            ]
          },
          "execution_count": 15,
          "metadata": {},
          "output_type": "execute_result"
        }
      ],
      "source": [
        "df_new.head(5)"
      ]
    },
    {
      "cell_type": "markdown",
      "metadata": {
        "id": "_VC0YXmL9asx"
      },
      "source": [
        "#Processing"
      ]
    },
    {
      "cell_type": "markdown",
      "metadata": {
        "id": "XPnlIPq29dVR"
      },
      "source": [
        "##Split Dataset"
      ]
    },
    {
      "cell_type": "code",
      "execution_count": null,
      "metadata": {
        "colab": {
          "base_uri": "https://localhost:8080/"
        },
        "id": "3YqxUZxA9Wd2",
        "outputId": "95d0e43f-b5c7-4bc3-f47a-dd20aff627b4"
      },
      "outputs": [
        {
          "name": "stdout",
          "output_type": "stream",
          "text": [
            "Train shape: (12978, 2)\n",
            "Val shape: (3727, 2)\n",
            "Test shape: (1836, 2)\n"
          ]
        }
      ],
      "source": [
        "# train test val split\n",
        "train_set, val_set = train_test_split(df_new, test_size=0.3, stratify=df_new.sentiment_status, random_state=1)\n",
        "val_set, test_set = train_test_split(val_set, test_size=0.33, stratify=val_set.sentiment_status, random_state=1)\n",
        "\n",
        "print(f'Train shape: {train_set.shape}')\n",
        "print(f'Val shape: {val_set.shape}')\n",
        "print(f'Test shape: {test_set.shape}')\n",
        "\n",
        "# export to tsv\n",
        "train_set.to_csv('train_set.tsv', sep='\\t', header=None, index=False)\n",
        "val_set.to_csv('val_set.tsv', sep='\\t', header=None, index=False)\n",
        "test_set.to_csv('test_set.tsv', sep='\\t', header=None, index=False)"
      ]
    },
    {
      "cell_type": "markdown",
      "metadata": {
        "id": "pUqA9kZy9w9f"
      },
      "source": [
        "##BERT"
      ]
    },
    {
      "cell_type": "markdown",
      "metadata": {
        "id": "ANjTLL-59yY-"
      },
      "source": [
        "###BERT - Common Functions"
      ]
    },
    {
      "cell_type": "code",
      "execution_count": null,
      "metadata": {
        "id": "_OdITHRi9wAX"
      },
      "outputs": [],
      "source": [
        "def set_seed(seed):\n",
        "    random.seed(seed)\n",
        "    np.random.seed(seed)\n",
        "    torch.manual_seed(seed)\n",
        "    torch.cuda.manual_seed(seed)\n",
        "\n",
        "def count_param(module, trainable=False):\n",
        "    if trainable:\n",
        "        return sum(p.numel() for p in module.parameters() if p.requires_grad)\n",
        "    else:\n",
        "        return sum(p.numel() for p in module.parameters())\n",
        "\n",
        "def get_lr(optimizer):\n",
        "    for param_group in optimizer.param_groups:\n",
        "        return param_group['lr']\n",
        "\n",
        "def metrics_to_string(metric_dict):\n",
        "    string_list = []\n",
        "    for key, value in metric_dict.items():\n",
        "        string_list.append('{}:{:.2f}'.format(key, value))\n",
        "    return ' '.join(string_list)\n",
        "\n",
        "# Set random seed\n",
        "set_seed(27)"
      ]
    },
    {
      "cell_type": "markdown",
      "metadata": {
        "id": "lLtbeFGs_WQ1"
      },
      "source": [
        "###BERT - Configs"
      ]
    },
    {
      "cell_type": "code",
      "execution_count": null,
      "metadata": {
        "colab": {
          "base_uri": "https://localhost:8080/"
        },
        "id": "5OwQkwnh_H7s",
        "outputId": "8080e2ad-bd82-485b-b4c5-2b07112eacd8"
      },
      "outputs": [
        {
          "name": "stderr",
          "output_type": "stream",
          "text": [
            "Some weights of BertForSequenceClassification were not initialized from the model checkpoint at indobenchmark/indobert-base-p1 and are newly initialized: ['classifier.bias', 'classifier.weight']\n",
            "You should probably TRAIN this model on a down-stream task to be able to use it for predictions and inference.\n"
          ]
        },
        {
          "name": "stdout",
          "output_type": "stream",
          "text": [
            "BertForSequenceClassification(\n",
            "  (bert): BertModel(\n",
            "    (embeddings): BertEmbeddings(\n",
            "      (word_embeddings): Embedding(50000, 768, padding_idx=0)\n",
            "      (position_embeddings): Embedding(512, 768)\n",
            "      (token_type_embeddings): Embedding(2, 768)\n",
            "      (LayerNorm): LayerNorm((768,), eps=1e-12, elementwise_affine=True)\n",
            "      (dropout): Dropout(p=0.1, inplace=False)\n",
            "    )\n",
            "    (encoder): BertEncoder(\n",
            "      (layer): ModuleList(\n",
            "        (0-11): 12 x BertLayer(\n",
            "          (attention): BertAttention(\n",
            "            (self): BertSelfAttention(\n",
            "              (query): Linear(in_features=768, out_features=768, bias=True)\n",
            "              (key): Linear(in_features=768, out_features=768, bias=True)\n",
            "              (value): Linear(in_features=768, out_features=768, bias=True)\n",
            "              (dropout): Dropout(p=0.1, inplace=False)\n",
            "            )\n",
            "            (output): BertSelfOutput(\n",
            "              (dense): Linear(in_features=768, out_features=768, bias=True)\n",
            "              (LayerNorm): LayerNorm((768,), eps=1e-12, elementwise_affine=True)\n",
            "              (dropout): Dropout(p=0.1, inplace=False)\n",
            "            )\n",
            "          )\n",
            "          (intermediate): BertIntermediate(\n",
            "            (dense): Linear(in_features=768, out_features=3072, bias=True)\n",
            "            (intermediate_act_fn): GELUActivation()\n",
            "          )\n",
            "          (output): BertOutput(\n",
            "            (dense): Linear(in_features=3072, out_features=768, bias=True)\n",
            "            (LayerNorm): LayerNorm((768,), eps=1e-12, elementwise_affine=True)\n",
            "            (dropout): Dropout(p=0.1, inplace=False)\n",
            "          )\n",
            "        )\n",
            "      )\n",
            "    )\n",
            "    (pooler): BertPooler(\n",
            "      (dense): Linear(in_features=768, out_features=768, bias=True)\n",
            "      (activation): Tanh()\n",
            "    )\n",
            "  )\n",
            "  (dropout): Dropout(p=0.1, inplace=False)\n",
            "  (classifier): Linear(in_features=768, out_features=3, bias=True)\n",
            ")\n",
            "124443651\n"
          ]
        }
      ],
      "source": [
        "# Load Tokenizer and Config\n",
        "tokenizer = BertTokenizer.from_pretrained('indobenchmark/indobert-base-p1')\n",
        "config = BertConfig.from_pretrained('indobenchmark/indobert-base-p1')\n",
        "config.num_labels = DocumentSentimentDataset.NUM_LABELS\n",
        "\n",
        "# Instantiate model\n",
        "model = BertForSequenceClassification.from_pretrained('indobenchmark/indobert-base-p1', config=config)\n",
        "\n",
        "# Struktur model\n",
        "print(model)\n",
        "\n",
        "# Jumlah parameter\n",
        "print(count_param(model))"
      ]
    },
    {
      "cell_type": "markdown",
      "metadata": {
        "id": "fWj3tjj5_bnB"
      },
      "source": [
        "###BERT - Data Preps"
      ]
    },
    {
      "cell_type": "markdown",
      "metadata": {
        "id": "XldWYSskfeNQ"
      },
      "source": [
        "###CONFIG TRAIN"
      ]
    },
    {
      "cell_type": "code",
      "execution_count": null,
      "metadata": {
        "id": "9keVpsdEQkqx"
      },
      "outputs": [],
      "source": [
        "# configs\n",
        "n_epochs = 10\n",
        "batchSize = 32\n",
        "lrNum = 3e-6"
      ]
    },
    {
      "cell_type": "code",
      "execution_count": null,
      "metadata": {
        "colab": {
          "base_uri": "https://localhost:8080/"
        },
        "id": "DUhBxzWh_NSE",
        "outputId": "33c0d854-edaa-4f75-a356-ba67e15bd2bb"
      },
      "outputs": [
        {
          "name": "stdout",
          "output_type": "stream",
          "text": [
            "{'positive': 0, 'neutral': 1, 'negative': 2}\n",
            "{0: 'positive', 1: 'neutral', 2: 'negative'}\n"
          ]
        }
      ],
      "source": [
        "train_dataset_path = '/content/train_set.tsv'\n",
        "valid_dataset_path = '/content/val_set.tsv'\n",
        "test_dataset_path = '/content/test_set.tsv'\n",
        "\n",
        "# fungsi dataset loader dari utils IndoNLU\n",
        "train_dataset = DocumentSentimentDataset(train_dataset_path, tokenizer, lowercase=True)\n",
        "valid_dataset = DocumentSentimentDataset(valid_dataset_path, tokenizer, lowercase=True)\n",
        "test_dataset = DocumentSentimentDataset(test_dataset_path, tokenizer, lowercase=True)\n",
        "\n",
        "train_loader = DocumentSentimentDataLoader(dataset=train_dataset, max_seq_len=512, batch_size=batchSize, num_workers=16, shuffle=True)\n",
        "valid_loader = DocumentSentimentDataLoader(dataset=valid_dataset, max_seq_len=512, batch_size=batchSize, num_workers=16, shuffle=False)\n",
        "test_loader = DocumentSentimentDataLoader(dataset=test_dataset, max_seq_len=512, batch_size=batchSize, num_workers=16, shuffle=False)\n",
        "\n",
        "w2i, i2w = DocumentSentimentDataset.LABEL2INDEX, DocumentSentimentDataset.INDEX2LABEL\n",
        "print(w2i) #word to index\n",
        "print(i2w) #index to word"
      ]
    },
    {
      "cell_type": "markdown",
      "metadata": {
        "id": "tHC0p9wU_e22"
      },
      "source": [
        "###BERT - Training"
      ]
    },
    {
      "cell_type": "code",
      "execution_count": null,
      "metadata": {
        "colab": {
          "base_uri": "https://localhost:8080/"
        },
        "id": "ogTHiUTP_Upu",
        "outputId": "2e29bda7-45ae-4698-e55a-627f28fdebca"
      },
      "outputs": [
        {
          "name": "stderr",
          "output_type": "stream",
          "text": [
            "(Epoch 1) TRAIN LOSS:0.6310 LR:0.00000300: 100%|██████████| 406/406 [01:58<00:00,  3.42it/s]\n"
          ]
        },
        {
          "name": "stdout",
          "output_type": "stream",
          "text": [
            "(Epoch 1) TRAIN LOSS:0.6310 ACC:0.75 F1:0.43 REC:0.42 PRE:0.57 LR:0.00000300\n"
          ]
        },
        {
          "name": "stderr",
          "output_type": "stream",
          "text": [
            "VALID LOSS:0.5227 ACC:0.79 F1:0.62 REC:0.61 PRE:0.68: 100%|██████████| 117/117 [00:13<00:00,  8.41it/s]\n"
          ]
        },
        {
          "name": "stdout",
          "output_type": "stream",
          "text": [
            "(Epoch 1) VALID LOSS:0.5227 ACC:0.79 F1:0.62 REC:0.61 PRE:0.68\n"
          ]
        },
        {
          "name": "stderr",
          "output_type": "stream",
          "text": [
            "(Epoch 2) TRAIN LOSS:0.4881 LR:0.00000300: 100%|██████████| 406/406 [01:59<00:00,  3.41it/s]\n"
          ]
        },
        {
          "name": "stdout",
          "output_type": "stream",
          "text": [
            "(Epoch 2) TRAIN LOSS:0.4881 ACC:0.81 F1:0.65 REC:0.61 PRE:0.72 LR:0.00000300\n"
          ]
        },
        {
          "name": "stderr",
          "output_type": "stream",
          "text": [
            "VALID LOSS:0.5019 ACC:0.80 F1:0.64 REC:0.61 PRE:0.70: 100%|██████████| 117/117 [00:13<00:00,  8.42it/s]\n"
          ]
        },
        {
          "name": "stdout",
          "output_type": "stream",
          "text": [
            "(Epoch 2) VALID LOSS:0.5019 ACC:0.80 F1:0.64 REC:0.61 PRE:0.70\n"
          ]
        },
        {
          "name": "stderr",
          "output_type": "stream",
          "text": [
            "(Epoch 3) TRAIN LOSS:0.4302 LR:0.00000300: 100%|██████████| 406/406 [01:57<00:00,  3.44it/s]\n"
          ]
        },
        {
          "name": "stdout",
          "output_type": "stream",
          "text": [
            "(Epoch 3) TRAIN LOSS:0.4302 ACC:0.83 F1:0.70 REC:0.66 PRE:0.75 LR:0.00000300\n"
          ]
        },
        {
          "name": "stderr",
          "output_type": "stream",
          "text": [
            "VALID LOSS:0.4884 ACC:0.81 F1:0.66 REC:0.62 PRE:0.72: 100%|██████████| 117/117 [00:13<00:00,  8.40it/s]\n"
          ]
        },
        {
          "name": "stdout",
          "output_type": "stream",
          "text": [
            "(Epoch 3) VALID LOSS:0.4884 ACC:0.81 F1:0.66 REC:0.62 PRE:0.72\n"
          ]
        },
        {
          "name": "stderr",
          "output_type": "stream",
          "text": [
            "(Epoch 4) TRAIN LOSS:0.3803 LR:0.00000300: 100%|██████████| 406/406 [01:57<00:00,  3.46it/s]\n"
          ]
        },
        {
          "name": "stdout",
          "output_type": "stream",
          "text": [
            "(Epoch 4) TRAIN LOSS:0.3803 ACC:0.85 F1:0.75 REC:0.72 PRE:0.79 LR:0.00000300\n"
          ]
        },
        {
          "name": "stderr",
          "output_type": "stream",
          "text": [
            "VALID LOSS:0.5067 ACC:0.79 F1:0.66 REC:0.66 PRE:0.67: 100%|██████████| 117/117 [00:13<00:00,  8.41it/s]\n"
          ]
        },
        {
          "name": "stdout",
          "output_type": "stream",
          "text": [
            "(Epoch 4) VALID LOSS:0.5067 ACC:0.79 F1:0.66 REC:0.66 PRE:0.67\n"
          ]
        },
        {
          "name": "stderr",
          "output_type": "stream",
          "text": [
            "(Epoch 5) TRAIN LOSS:0.3267 LR:0.00000300: 100%|██████████| 406/406 [01:58<00:00,  3.44it/s]\n"
          ]
        },
        {
          "name": "stdout",
          "output_type": "stream",
          "text": [
            "(Epoch 5) TRAIN LOSS:0.3267 ACC:0.87 F1:0.79 REC:0.77 PRE:0.82 LR:0.00000300\n"
          ]
        },
        {
          "name": "stderr",
          "output_type": "stream",
          "text": [
            "VALID LOSS:0.5292 ACC:0.79 F1:0.67 REC:0.66 PRE:0.68: 100%|██████████| 117/117 [00:13<00:00,  8.44it/s]\n"
          ]
        },
        {
          "name": "stdout",
          "output_type": "stream",
          "text": [
            "(Epoch 5) VALID LOSS:0.5292 ACC:0.79 F1:0.67 REC:0.66 PRE:0.68\n"
          ]
        },
        {
          "name": "stderr",
          "output_type": "stream",
          "text": [
            "(Epoch 6) TRAIN LOSS:0.2756 LR:0.00000300: 100%|██████████| 406/406 [01:57<00:00,  3.46it/s]\n"
          ]
        },
        {
          "name": "stdout",
          "output_type": "stream",
          "text": [
            "(Epoch 6) TRAIN LOSS:0.2756 ACC:0.90 F1:0.84 REC:0.82 PRE:0.86 LR:0.00000300\n"
          ]
        },
        {
          "name": "stderr",
          "output_type": "stream",
          "text": [
            "VALID LOSS:0.5766 ACC:0.79 F1:0.66 REC:0.66 PRE:0.67: 100%|██████████| 117/117 [00:13<00:00,  8.41it/s]\n"
          ]
        },
        {
          "name": "stdout",
          "output_type": "stream",
          "text": [
            "(Epoch 6) VALID LOSS:0.5766 ACC:0.79 F1:0.66 REC:0.66 PRE:0.67\n"
          ]
        },
        {
          "name": "stderr",
          "output_type": "stream",
          "text": [
            "(Epoch 7) TRAIN LOSS:0.2245 LR:0.00000300: 100%|██████████| 406/406 [01:57<00:00,  3.46it/s]\n"
          ]
        },
        {
          "name": "stdout",
          "output_type": "stream",
          "text": [
            "(Epoch 7) TRAIN LOSS:0.2245 ACC:0.92 F1:0.87 REC:0.86 PRE:0.89 LR:0.00000300\n"
          ]
        },
        {
          "name": "stderr",
          "output_type": "stream",
          "text": [
            "VALID LOSS:0.6193 ACC:0.78 F1:0.66 REC:0.66 PRE:0.66: 100%|██████████| 117/117 [00:13<00:00,  8.40it/s]\n"
          ]
        },
        {
          "name": "stdout",
          "output_type": "stream",
          "text": [
            "(Epoch 7) VALID LOSS:0.6193 ACC:0.78 F1:0.66 REC:0.66 PRE:0.66\n"
          ]
        },
        {
          "name": "stderr",
          "output_type": "stream",
          "text": [
            "(Epoch 8) TRAIN LOSS:0.1805 LR:0.00000300: 100%|██████████| 406/406 [01:57<00:00,  3.46it/s]\n"
          ]
        },
        {
          "name": "stdout",
          "output_type": "stream",
          "text": [
            "(Epoch 8) TRAIN LOSS:0.1805 ACC:0.94 F1:0.90 REC:0.89 PRE:0.92 LR:0.00000300\n"
          ]
        },
        {
          "name": "stderr",
          "output_type": "stream",
          "text": [
            "VALID LOSS:0.7098 ACC:0.76 F1:0.65 REC:0.67 PRE:0.65: 100%|██████████| 117/117 [00:13<00:00,  8.41it/s]\n"
          ]
        },
        {
          "name": "stdout",
          "output_type": "stream",
          "text": [
            "(Epoch 8) VALID LOSS:0.7098 ACC:0.76 F1:0.65 REC:0.67 PRE:0.65\n"
          ]
        },
        {
          "name": "stderr",
          "output_type": "stream",
          "text": [
            "(Epoch 9) TRAIN LOSS:0.1532 LR:0.00000300: 100%|██████████| 406/406 [01:57<00:00,  3.44it/s]\n"
          ]
        },
        {
          "name": "stdout",
          "output_type": "stream",
          "text": [
            "(Epoch 9) TRAIN LOSS:0.1532 ACC:0.95 F1:0.92 REC:0.91 PRE:0.93 LR:0.00000300\n"
          ]
        },
        {
          "name": "stderr",
          "output_type": "stream",
          "text": [
            "VALID LOSS:0.7387 ACC:0.77 F1:0.65 REC:0.66 PRE:0.64: 100%|██████████| 117/117 [00:13<00:00,  8.42it/s]\n"
          ]
        },
        {
          "name": "stdout",
          "output_type": "stream",
          "text": [
            "(Epoch 9) VALID LOSS:0.7387 ACC:0.77 F1:0.65 REC:0.66 PRE:0.64\n"
          ]
        },
        {
          "name": "stderr",
          "output_type": "stream",
          "text": [
            "(Epoch 10) TRAIN LOSS:0.1316 LR:0.00000300: 100%|██████████| 406/406 [01:57<00:00,  3.45it/s]\n"
          ]
        },
        {
          "name": "stdout",
          "output_type": "stream",
          "text": [
            "(Epoch 10) TRAIN LOSS:0.1316 ACC:0.96 F1:0.93 REC:0.92 PRE:0.94 LR:0.00000300\n"
          ]
        },
        {
          "name": "stderr",
          "output_type": "stream",
          "text": [
            "VALID LOSS:0.7622 ACC:0.79 F1:0.65 REC:0.63 PRE:0.67: 100%|██████████| 117/117 [00:13<00:00,  8.40it/s]"
          ]
        },
        {
          "name": "stdout",
          "output_type": "stream",
          "text": [
            "(Epoch 10) VALID LOSS:0.7622 ACC:0.79 F1:0.65 REC:0.63 PRE:0.67\n"
          ]
        },
        {
          "name": "stderr",
          "output_type": "stream",
          "text": [
            "\n"
          ]
        }
      ],
      "source": [
        "optimizer = optim.Adam(model.parameters(), lr=lrNum)\n",
        "model = model.cuda()\n",
        "\n",
        "# Train\n",
        "with tf.device('/device:GPU:0'):\n",
        "  history = defaultdict(list)\n",
        "  for epoch in range(n_epochs):\n",
        "      model.train()\n",
        "      torch.set_grad_enabled(True)\n",
        "\n",
        "      total_train_loss = 0\n",
        "      list_hyp_train, list_label = [], []\n",
        "\n",
        "      train_pbar = tqdm(train_loader, leave=True, total=len(train_loader))\n",
        "      for i, batch_data in enumerate(train_pbar):\n",
        "          # Forward model\n",
        "          loss, batch_hyp, batch_label = forward_sequence_classification(model, batch_data[:-1], i2w=i2w, device='cuda')\n",
        "\n",
        "          # Update model\n",
        "          optimizer.zero_grad()\n",
        "          loss.backward()\n",
        "          optimizer.step()\n",
        "\n",
        "          tr_loss = loss.item()\n",
        "          total_train_loss = total_train_loss + tr_loss\n",
        "\n",
        "          # Hitung skor train metrics\n",
        "          list_hyp_train += batch_hyp\n",
        "          list_label += batch_label\n",
        "\n",
        "          train_pbar.set_description(\"(Epoch {}) TRAIN LOSS:{:.4f} LR:{:.8f}\".format((epoch+1),\n",
        "              total_train_loss/(i+1), get_lr(optimizer)))\n",
        "\n",
        "      metrics = document_sentiment_metrics_fn(list_hyp_train, list_label)\n",
        "      print(\"(Epoch {}) TRAIN LOSS:{:.4f} {} LR:{:.8f}\".format((epoch+1),\n",
        "          total_train_loss/(i+1), metrics_to_string(metrics), get_lr(optimizer)))\n",
        "\n",
        "      # save train acc for learning curve\n",
        "      history['train_acc'].append(metrics['ACC'])\n",
        "\n",
        "      # Evaluate di validation set\n",
        "      model.eval()\n",
        "      torch.set_grad_enabled(False)\n",
        "\n",
        "      total_loss, total_correct, total_labels = 0, 0, 0\n",
        "      list_hyp, list_label = [], []\n",
        "\n",
        "      pbar = tqdm(valid_loader, leave=True, total=len(valid_loader))\n",
        "      for i, batch_data in enumerate(pbar):\n",
        "          batch_seq = batch_data[-1]\n",
        "          loss, batch_hyp, batch_label = forward_sequence_classification(model, batch_data[:-1], i2w=i2w, device='cuda')\n",
        "\n",
        "          # Hitung total loss\n",
        "          valid_loss = loss.item()\n",
        "          total_loss = total_loss + valid_loss\n",
        "\n",
        "          # Hitung skor evaluation metrics\n",
        "          list_hyp += batch_hyp\n",
        "          list_label += batch_label\n",
        "          metrics = document_sentiment_metrics_fn(list_hyp, list_label)\n",
        "\n",
        "          pbar.set_description(\"VALID LOSS:{:.4f} {}\".format(total_loss/(i+1), metrics_to_string(metrics)))\n",
        "\n",
        "      metrics = document_sentiment_metrics_fn(list_hyp, list_label)\n",
        "      print(\"(Epoch {}) VALID LOSS:{:.4f} {}\".format((epoch+1),\n",
        "          total_loss/(i+1), metrics_to_string(metrics)))\n",
        "\n",
        "      # save validation acc for learning curve\n",
        "      history['val_acc'].append(metrics['ACC'])"
      ]
    },
    {
      "cell_type": "code",
      "execution_count": null,
      "metadata": {
        "id": "lhu2IK8LiZzy"
      },
      "outputs": [],
      "source": [
        "import torch\n",
        "modelfilename = str(n_epochs) + \"ep-\" + date_time + \"-batch-\" + str(batchSize) + \"lr-\" + str(lrNum)\n",
        "\n",
        "# harusnya save_pretrained\n",
        "# https://discuss.huggingface.co/t/saving-loading-model-in-colab-and-making-predictions/6723\n",
        "# https://lightrun.com/answers/huggingface-setfit-hfvalidationerror-when-loading-the-model\n",
        "torch.save(model, '/content/drive/MyDrive/[dataset-thesis/model-' + modelfilename)"
      ]
    },
    {
      "cell_type": "code",
      "execution_count": null,
      "metadata": {
        "colab": {
          "base_uri": "https://localhost:8080/"
        },
        "id": "mQNKqIAiesV9",
        "outputId": "35fd64fb-65e6-48a8-f22d-f0ba2f686e26"
      },
      "outputs": [
        {
          "name": "stdout",
          "output_type": "stream",
          "text": [
            "10ep-05-04-2023-12-26-06-batch-32lr-3e-06\n"
          ]
        }
      ],
      "source": [
        "print(modelfilename)"
      ]
    },
    {
      "cell_type": "code",
      "execution_count": null,
      "metadata": {
        "id": "MAl0vOUOikMm"
      },
      "outputs": [],
      "source": [
        "# saved_model = torch.load('/content/drive/MyDrive/[dataset-thesis/model')"
      ]
    },
    {
      "cell_type": "markdown",
      "metadata": {
        "id": "k5C448wYaLJR"
      },
      "source": [
        "###Learning Curve"
      ]
    },
    {
      "cell_type": "code",
      "execution_count": null,
      "metadata": {
        "colab": {
          "base_uri": "https://localhost:8080/",
          "height": 492
        },
        "id": "O4nEyRdXZ87Y",
        "outputId": "98b60234-ee8c-43af-fa44-f14e680e539c"
      },
      "outputs": [
        {
          "data": {
            "image/png": "[encoded data removed]",
            "text/plain": [
              "<Figure size 1000x500 with 1 Axes>"
            ]
          },
          "metadata": {},
          "output_type": "display_data"
        }
      ],
      "source": [
        "plt.plot(history['train_acc'], label='train acc')\n",
        "plt.plot(history['val_acc'], label='validation acc')\n",
        "plt.title('Training history')\n",
        "plt.ylabel('acc')\n",
        "plt.xlabel('Epoch')\n",
        "plt.legend()\n",
        "plt.ylim([0, 1]);"
      ]
    },
    {
      "cell_type": "code",
      "execution_count": null,
      "metadata": {
        "id": "hLr1Eu8AfMkR"
      },
      "outputs": [],
      "source": [
        "val_df = pd.read_csv(valid_dataset_path, sep='\\t', names=['review_text', 'category'])\n",
        "val_df['pred'] = list_hyp\n",
        "val_df.head()\n",
        "valfile = 'val_result' + str(n_epochs) + \"ep-\" + date_time + \"-batch-\" + str(batchSize) + \"lr-\" + str(lrNum) + '.csv'\n",
        "val_df.to_csv(valfile, index=False)"
      ]
    },
    {
      "cell_type": "markdown",
      "metadata": {
        "id": "DsOVYqMAaSB0"
      },
      "source": [
        "###Prediksi Test Set"
      ]
    },
    {
      "cell_type": "code",
      "execution_count": null,
      "metadata": {
        "colab": {
          "base_uri": "https://localhost:8080/"
        },
        "id": "5_r3j5ZEaTdS",
        "outputId": "707cec9b-9283-419d-baa1-5bec84440d22"
      },
      "outputs": [
        {
          "name": "stderr",
          "output_type": "stream",
          "text": [
            "100%|██████████| 58/58 [00:06<00:00,  8.77it/s]\n"
          ]
        }
      ],
      "source": [
        "# Prediksi test set\n",
        "model.eval()\n",
        "torch.set_grad_enabled(False)\n",
        "\n",
        "total_loss, total_correct, total_labels = 0, 0, 0\n",
        "pred, list_label = [], []\n",
        "\n",
        "pbar = tqdm(test_loader, leave=True, total=len(test_loader))\n",
        "for i, batch_data in enumerate(pbar):\n",
        "    _, batch_hyp, _ = forward_sequence_classification(model, batch_data[:-1], i2w=i2w, device='cuda')\n",
        "    pred += batch_hyp\n",
        "\n",
        "# metrics = document_sentiment_metrics_fn(list_hyp, list_label)\n",
        "# print(\"TEST Metrics | {}\".format(metrics_to_string(metrics)))"
      ]
    },
    {
      "cell_type": "code",
      "execution_count": null,
      "metadata": {
        "id": "ec5vmh49fRvt"
      },
      "outputs": [],
      "source": [
        "# Simpan prediksi test set\n",
        "test_df = pd.read_csv(test_dataset_path, sep='\\t', names=['review_text', 'category'])\n",
        "test_df['pred'] = pred\n",
        "test_df.head()\n",
        "test_df.to_csv('test-result_' + str(n_epochs) + \"ep-\" + date_time + \"-batch-\" + str(batchSize) + \"lr-\" + str(lrNum) + \".csv\", index=False)"
      ]
    },
    {
      "cell_type": "markdown",
      "metadata": {
        "id": "WVHo1riBaWKk"
      },
      "source": [
        "#Evaluate"
      ]
    },
    {
      "cell_type": "code",
      "execution_count": null,
      "metadata": {
        "id": "bpCrHF5RaYhi"
      },
      "outputs": [],
      "source": [
        "val_real = val_df.category\n",
        "val_pred = val_df.pred\n",
        "\n",
        "test_real = test_df.category\n",
        "test_pred = test_df.pred"
      ]
    },
    {
      "cell_type": "code",
      "execution_count": null,
      "metadata": {
        "colab": {
          "base_uri": "https://localhost:8080/",
          "height": 497
        },
        "id": "3mUAmun_aaGX",
        "outputId": "68b8d753-c603-4288-e0c8-511dd6ebce22"
      },
      "outputs": [
        {
          "data": {
            "image/png": "[encoded data removed]",
            "text/plain": [
              "<Figure size 1000x500 with 2 Axes>"
            ]
          },
          "metadata": {},
          "output_type": "display_data"
        }
      ],
      "source": [
        "def show_confusion_matrix(confusion_matrix):\n",
        "  hmap = sns.heatmap(confusion_matrix, annot=True, fmt=\"d\", cmap=\"Blues\")\n",
        "  hmap.yaxis.set_ticklabels(hmap.yaxis.get_ticklabels(), rotation=0, ha='right')\n",
        "  hmap.xaxis.set_ticklabels(hmap.xaxis.get_ticklabels(), rotation=30, ha='right')\n",
        "  plt.ylabel('True sentiment')\n",
        "  plt.xlabel('Predicted sentiment');\n",
        "\n",
        "cm = confusion_matrix(val_real, val_pred)\n",
        "df_cm = pd.DataFrame(cm, index=['positive', 'neutral', 'negative'], columns=['positive', 'neutral', 'negative'])\n",
        "show_confusion_matrix(df_cm)"
      ]
    },
    {
      "cell_type": "code",
      "execution_count": null,
      "metadata": {
        "colab": {
          "base_uri": "https://localhost:8080/"
        },
        "id": "lbJ0qbMfacMa",
        "outputId": "04b4ea20-e0c1-46c6-d75a-3538130b9262"
      },
      "outputs": [
        {
          "name": "stdout",
          "output_type": "stream",
          "text": [
            "              precision    recall  f1-score   support\n",
            "\n",
            "    positive       0.53      0.46      0.49       583\n",
            "     neutral       0.85      0.89      0.87      2796\n",
            "    negative       0.65      0.55      0.59       348\n",
            "\n",
            "    accuracy                           0.79      3727\n",
            "   macro avg       0.67      0.63      0.65      3727\n",
            "weighted avg       0.78      0.79      0.78      3727\n",
            "\n"
          ]
        }
      ],
      "source": [
        "print(classification_report(val_real, val_pred, target_names=['positive', 'neutral', 'negative']))"
      ]
    },
    {
      "cell_type": "code",
      "execution_count": null,
      "metadata": {
        "colab": {
          "base_uri": "https://localhost:8080/",
          "height": 500
        },
        "id": "4KizVbLNaeCx",
        "outputId": "6b475a82-436d-48e2-a1c4-8e8eea3ad1ab"
      },
      "outputs": [
        {
          "data": {
            "image/png": "[encoded data removed]",
            "text/plain": [
              "<Figure size 1000x500 with 2 Axes>"
            ]
          },
          "metadata": {},
          "output_type": "display_data"
        }
      ],
      "source": [
        "def show_confusion_matrix(confusion_matrix):\n",
        "  hmap = sns.heatmap(confusion_matrix, annot=True, fmt=\"d\", cmap=\"Blues\")\n",
        "  hmap.yaxis.set_ticklabels(hmap.yaxis.get_ticklabels(), rotation=0, ha='right')\n",
        "  hmap.xaxis.set_ticklabels(hmap.xaxis.get_ticklabels(), rotation=30, ha='right')\n",
        "  plt.ylabel('True sentiment')\n",
        "  plt.xlabel('Predicted sentiment');\n",
        "\n",
        "cm = confusion_matrix(test_real, test_pred)\n",
        "df_cm = pd.DataFrame(cm, index=['positive', 'neutral', 'negative'], columns=['positive', 'neutral', 'negative'])\n",
        "show_confusion_matrix(df_cm)"
      ]
    },
    {
      "cell_type": "code",
      "execution_count": null,
      "metadata": {
        "colab": {
          "base_uri": "https://localhost:8080/"
        },
        "id": "MsltLu6gaf5r",
        "outputId": "12cfaf88-1871-49c1-eb0d-e35db4b466e2"
      },
      "outputs": [
        {
          "name": "stdout",
          "output_type": "stream",
          "text": [
            "              precision    recall  f1-score   support\n",
            "\n",
            "    positive       0.51      0.45      0.48       288\n",
            "     neutral       0.85      0.88      0.86      1377\n",
            "    negative       0.61      0.54      0.57       171\n",
            "\n",
            "    accuracy                           0.78      1836\n",
            "   macro avg       0.65      0.62      0.64      1836\n",
            "weighted avg       0.77      0.78      0.77      1836\n",
            "\n"
          ]
        }
      ],
      "source": [
        "print(classification_report(test_real, test_pred, target_names=['positive', 'neutral', 'negative']))"
      ]
    },
    {
      "cell_type": "markdown",
      "metadata": {
        "id": "7XxX8UIY8RYC"
      },
      "source": [
        "#SVM"
      ]
    },
    {
      "cell_type": "markdown",
      "metadata": {
        "id": "aDM7geKPNXpv"
      },
      "source": [
        "##Linear kernel"
      ]
    },
    {
      "cell_type": "code",
      "execution_count": null,
      "metadata": {
        "id": "mfcmXmgT8SVt"
      },
      "outputs": [],
      "source": [
        "from sklearn.model_selection import train_test_split\n",
        "from sklearn.feature_extraction.text import TfidfVectorizer\n",
        "from sklearn.svm import SVC\n",
        "from sklearn.metrics import accuracy_score, classification_report\n",
        "\n",
        "# Load the data into a pandas DataFrame\n",
        "data = pd.read_csv('cleaned-all-final.CSV')\n",
        "\n",
        "# Split the data into training and testing sets\n",
        "train_data, test_data = train_test_split(data, test_size=0.2, random_state=42)\n",
        "\n",
        "with tf.device('/device:GPU:0'):\n",
        "  # Create a TF-IDF vectorizer to convert the tweet text into numerical features\n",
        "  vectorizer = TfidfVectorizer()\n",
        "  X_train = vectorizer.fit_transform(train_data['cleaned_text'])\n",
        "  y_train = train_data['sentiment_status']\n",
        "  X_test = vectorizer.transform(test_data['cleaned_text'])\n",
        "  y_test = test_data['sentiment_status']\n",
        "\n",
        "  # default function is used,\n",
        "  # SVC(*, C=1.0, kernel='..........', degree=3, gamma='scale', coef0=0.0, shrinking=True, probability=False,\n",
        "  #     tol=0.001, cache_size=200, class_weight=None, verbose=False, max_iter=-1, decision_function_shape='ovr',\n",
        "  #     break_ties=False, random_state=None)\n",
        "  # Train an SVM model on the training data\n",
        "  svm = SVC(kernel='linear')\n",
        "  svm.fit(X_train, y_train)"
      ]
    },
    {
      "cell_type": "code",
      "execution_count": null,
      "metadata": {
        "id": "c6SI9zX40HvS"
      },
      "outputs": [],
      "source": [
        "# Predict the labels for the training data\n",
        "y_train_pred = svm.predict(X_train)"
      ]
    },
    {
      "cell_type": "code",
      "execution_count": null,
      "metadata": {
        "colab": {
          "base_uri": "https://localhost:8080/"
        },
        "id": "tDDZR5cB0J5j",
        "outputId": "bafe47ca-bcf1-4a11-879f-d0203ac013ed"
      },
      "outputs": [
        {
          "name": "stdout",
          "output_type": "stream",
          "text": [
            "Accuracy: 0.8639428263214671\n",
            "Classification Report:\n",
            "              precision    recall  f1-score   support\n",
            "\n",
            "    negative       0.93      0.47      0.62      2340\n",
            "     neutral       0.86      0.99      0.92     11098\n",
            "    positive       0.89      0.55      0.68      1394\n",
            "\n",
            "    accuracy                           0.86     14832\n",
            "   macro avg       0.89      0.67      0.74     14832\n",
            "weighted avg       0.87      0.86      0.85     14832\n",
            "\n"
          ]
        }
      ],
      "source": [
        "# Compute accuracy, precision, recall, and F1-score using the training data\n",
        "accuracy = accuracy_score(y_train, y_train_pred)\n",
        "report = classification_report(y_train, y_train_pred)\n",
        "\n",
        "# Print the results\n",
        "print(\"Accuracy:\", accuracy)\n",
        "print(\"Classification Report:\")\n",
        "print(report)"
      ]
    },
    {
      "cell_type": "code",
      "execution_count": null,
      "metadata": {
        "id": "Q4PfPVAe875R"
      },
      "outputs": [],
      "source": [
        "# Predict the sentiment of the test data\n",
        "y_pred = svm.predict(X_test)"
      ]
    },
    {
      "cell_type": "code",
      "execution_count": null,
      "metadata": {
        "colab": {
          "base_uri": "https://localhost:8080/"
        },
        "id": "FOyLMlw289hh",
        "outputId": "d97f3249-cb58-4425-be07-02691829959e"
      },
      "outputs": [
        {
          "name": "stdout",
          "output_type": "stream",
          "text": [
            "Accuracy: 0.8015637638177406\n",
            "Classification report:\n",
            "               precision    recall  f1-score   support\n",
            "\n",
            "    negative       0.64      0.25      0.36       563\n",
            "     neutral       0.82      0.96      0.88      2809\n",
            "    positive       0.72      0.36      0.48       337\n",
            "\n",
            "    accuracy                           0.80      3709\n",
            "   macro avg       0.72      0.53      0.58      3709\n",
            "weighted avg       0.78      0.80      0.77      3709\n",
            "\n"
          ]
        }
      ],
      "source": [
        "# Calculate the accuracy and classification report of the model\n",
        "accuracy = accuracy_score(y_test, y_pred)\n",
        "report = classification_report(y_test, y_pred)\n",
        "print('Accuracy:', accuracy)\n",
        "print('Classification report:\\n', report)"
      ]
    },
    {
      "cell_type": "markdown",
      "metadata": {
        "id": "vReUlWJvNV3Z"
      },
      "source": [
        "##RBF Kernel"
      ]
    },
    {
      "cell_type": "code",
      "execution_count": null,
      "metadata": {
        "id": "EFmMknnW9Yxr"
      },
      "outputs": [],
      "source": [
        "from sklearn.model_selection import train_test_split\n",
        "from sklearn.feature_extraction.text import TfidfVectorizer\n",
        "from sklearn.svm import SVC\n",
        "from sklearn.metrics import accuracy_score, classification_report\n",
        "\n",
        "# Load the data into a pandas DataFrame\n",
        "data = pd.read_csv('cleaned-all-final.CSV')\n",
        "\n",
        "# Split the data into training and testing sets\n",
        "train_data, test_data = train_test_split(data, test_size=0.2, random_state=42)\n",
        "\n",
        "with tf.device('/device:GPU:0'):\n",
        "  # Create a TF-IDF vectorizer to convert the tweet text into numerical features\n",
        "  vectorizer = TfidfVectorizer()\n",
        "  X_train = vectorizer.fit_transform(train_data['cleaned_text'])\n",
        "  y_train = train_data['sentiment_status']\n",
        "  X_test = vectorizer.transform(test_data['cleaned_text'])\n",
        "  y_test = test_data['sentiment_status']\n",
        "\n",
        "  # Train an SVM model on the training data\n",
        "  svm = SVC(kernel='rbf')\n",
        "  svm.fit(X_train, y_train)"
      ]
    },
    {
      "cell_type": "code",
      "execution_count": null,
      "metadata": {
        "id": "4llvrcJM1tXd"
      },
      "outputs": [],
      "source": [
        "# Predict the labels for the training data\n",
        "y_train_pred = svm.predict(X_train)"
      ]
    },
    {
      "cell_type": "code",
      "execution_count": null,
      "metadata": {
        "colab": {
          "base_uri": "https://localhost:8080/"
        },
        "id": "3ybzCJG91uMU",
        "outputId": "47889052-d1ad-48f4-972c-f91fb43967ff"
      },
      "outputs": [
        {
          "name": "stdout",
          "output_type": "stream",
          "text": [
            "Accuracy: 0.9170037756202805\n",
            "Classification Report:\n",
            "              precision    recall  f1-score   support\n",
            "\n",
            "    negative       0.99      0.70      0.82      2340\n",
            "     neutral       0.90      1.00      0.95     11098\n",
            "    positive       0.96      0.66      0.78      1394\n",
            "\n",
            "    accuracy                           0.92     14832\n",
            "   macro avg       0.95      0.78      0.85     14832\n",
            "weighted avg       0.92      0.92      0.91     14832\n",
            "\n"
          ]
        }
      ],
      "source": [
        "# Compute accuracy, precision, recall, and F1-score using the training data\n",
        "accuracy = accuracy_score(y_train, y_train_pred)\n",
        "report = classification_report(y_train, y_train_pred)\n",
        "\n",
        "# Print the results\n",
        "print(\"Accuracy:\", accuracy)\n",
        "print(\"Classification Report:\")\n",
        "print(report)"
      ]
    },
    {
      "cell_type": "code",
      "execution_count": null,
      "metadata": {
        "id": "SIMq3IIW9bMi"
      },
      "outputs": [],
      "source": [
        "# Predict the sentiment of the test data\n",
        "y_pred = svm.predict(X_test)"
      ]
    },
    {
      "cell_type": "code",
      "execution_count": null,
      "metadata": {
        "colab": {
          "base_uri": "https://localhost:8080/"
        },
        "id": "4o-xUVok9bv5",
        "outputId": "689fdb6d-a481-4c9f-e1b7-a91808f634c0"
      },
      "outputs": [
        {
          "name": "stdout",
          "output_type": "stream",
          "text": [
            "Accuracy: 0.7883526557023457\n",
            "Classification report:\n",
            "               precision    recall  f1-score   support\n",
            "\n",
            "    negative       0.64      0.13      0.21       563\n",
            "     neutral       0.79      0.98      0.88      2809\n",
            "    positive       0.80      0.29      0.42       337\n",
            "\n",
            "    accuracy                           0.79      3709\n",
            "   macro avg       0.74      0.47      0.50      3709\n",
            "weighted avg       0.77      0.79      0.73      3709\n",
            "\n"
          ]
        }
      ],
      "source": [
        "# Calculate the accuracy and classification report of the model\n",
        "accuracy = accuracy_score(y_test, y_pred)\n",
        "report = classification_report(y_test, y_pred)\n",
        "print('Accuracy:', accuracy)\n",
        "print('Classification report:\\n', report)"
      ]
    },
    {
      "cell_type": "markdown",
      "metadata": {
        "id": "CqAHpEOrL5YY"
      },
      "source": [
        "#Naive-Bayes"
      ]
    },
    {
      "cell_type": "markdown",
      "metadata": {
        "id": "wBoBWxgK4fud"
      },
      "source": [
        "##Naive Bayes with Train ACC"
      ]
    },
    {
      "cell_type": "code",
      "execution_count": null,
      "metadata": {
        "colab": {
          "base_uri": "https://localhost:8080/"
        },
        "id": "iPhV9mAY2_kl",
        "outputId": "11e03935-85d4-4d9f-dad5-df35a7485cc7"
      },
      "outputs": [
        {
          "name": "stdout",
          "output_type": "stream",
          "text": [
            "Gaussian NB Training Accuracy: 0.7531014023732471\n",
            "Gaussian NB Training Classification Report:\n",
            "               precision    recall  f1-score   support\n",
            "\n",
            "    negative       0.44      1.00      0.61      2903\n",
            "     neutral       1.00      0.69      0.82     11929\n",
            "\n",
            "    accuracy                           0.75     14832\n",
            "   macro avg       0.72      0.85      0.72     14832\n",
            "weighted avg       0.89      0.75      0.78     14832\n",
            "\n",
            "Gaussian NB Test Accuracy: 0.2520895119978431\n",
            "Gaussian NB Test Classification Report:\n",
            "               precision    recall  f1-score   support\n",
            "\n",
            "    negative       0.00      0.00      0.00         0\n",
            "     neutral       0.54      0.47      0.50      1978\n",
            "    positive       0.00      0.00      0.00      1731\n",
            "\n",
            "    accuracy                           0.25      3709\n",
            "   macro avg       0.18      0.16      0.17      3709\n",
            "weighted avg       0.29      0.25      0.27      3709\n",
            "\n",
            "Multinomial NB Training Accuracy: 0.906957928802589\n",
            "Multinomial NB Training Classification Report:\n",
            "               precision    recall  f1-score   support\n",
            "\n",
            "    negative       0.81      0.68      0.74      2903\n",
            "     neutral       0.93      0.96      0.94     11929\n",
            "\n",
            "    accuracy                           0.91     14832\n",
            "   macro avg       0.87      0.82      0.84     14832\n",
            "weighted avg       0.90      0.91      0.90     14832\n",
            "\n",
            "Multinomial NB Test Accuracy: 0.48881100026961444\n",
            "Multinomial NB Test Classification Report:\n",
            "               precision    recall  f1-score   support\n",
            "\n",
            "    negative       0.00      0.00      0.00         0\n",
            "     neutral       0.53      0.92      0.67      1978\n",
            "    positive       0.00      0.00      0.00      1731\n",
            "\n",
            "    accuracy                           0.49      3709\n",
            "   macro avg       0.18      0.31      0.22      3709\n",
            "weighted avg       0.28      0.49      0.36      3709\n",
            "\n",
            "Bernoulli NB Training Accuracy: 0.8605717367853291\n",
            "Bernoulli NB Training Classification Report:\n",
            "               precision    recall  f1-score   support\n",
            "\n",
            "    negative       0.75      0.43      0.55      2903\n",
            "     neutral       0.87      0.96      0.92     11929\n",
            "\n",
            "    accuracy                           0.86     14832\n",
            "   macro avg       0.81      0.70      0.73     14832\n",
            "weighted avg       0.85      0.86      0.85     14832\n",
            "\n",
            "Bernoulli NB Test Accuracy: 0.5060663251550284\n",
            "Bernoulli NB Test Classification Report:\n",
            "               precision    recall  f1-score   support\n",
            "\n",
            "    negative       0.00      0.00      0.00         0\n",
            "     neutral       0.53      0.95      0.68      1978\n",
            "    positive       0.00      0.00      0.00      1731\n",
            "\n",
            "    accuracy                           0.51      3709\n",
            "   macro avg       0.18      0.32      0.23      3709\n",
            "weighted avg       0.28      0.51      0.36      3709\n",
            "\n",
            "Complement NB Training Accuracy: 0.8590884573894283\n",
            "Complement NB Training Classification Report:\n",
            "               precision    recall  f1-score   support\n",
            "\n",
            "    negative       0.60      0.84      0.70      2903\n",
            "     neutral       0.96      0.86      0.91     11929\n",
            "\n",
            "    accuracy                           0.86     14832\n",
            "   macro avg       0.78      0.85      0.80     14832\n",
            "weighted avg       0.89      0.86      0.87     14832\n",
            "\n",
            "Complement NB Test Accuracy: 0.42491237530331627\n",
            "Complement NB Test Classification Report:\n",
            "               precision    recall  f1-score   support\n",
            "\n",
            "    negative       0.00      0.00      0.00         0\n",
            "     neutral       0.53      0.80      0.64      1978\n",
            "    positive       0.00      0.00      0.00      1731\n",
            "\n",
            "    accuracy                           0.42      3709\n",
            "   macro avg       0.18      0.27      0.21      3709\n",
            "weighted avg       0.28      0.42      0.34      3709\n",
            "\n"
          ]
        }
      ],
      "source": [
        "from sklearn.feature_extraction.text import CountVectorizer\n",
        "from sklearn.naive_bayes import GaussianNB, MultinomialNB, BernoulliNB, ComplementNB\n",
        "\n",
        "# Load data into a pandas dataframe\n",
        "df = pd.read_csv('cleaned-all-final.CSV')\n",
        "\n",
        "# Split data into training and testing sets\n",
        "train_size = int(len(df) * 0.8)\n",
        "train_data = df[:train_size]\n",
        "test_data = df[train_size:]\n",
        "\n",
        "# Extract features using CountVectorizer\n",
        "vectorizer = CountVectorizer()\n",
        "train_features = vectorizer.fit_transform(train_data['cleaned_text'])\n",
        "test_features = vectorizer.transform(test_data['cleaned_text'])\n",
        "\n",
        "# Dictionary to store classification reports\n",
        "reports = {}\n",
        "\n",
        "# Train and test Gaussian Naive Bayes classifier\n",
        "gnb = GaussianNB()\n",
        "gnb.fit(train_features.toarray(), train_data['sentiment_status'])\n",
        "gnb_train_predicted_labels = gnb.predict(train_features.toarray())\n",
        "gnb_train_accuracy = accuracy_score(train_data['sentiment_status'], gnb_train_predicted_labels)\n",
        "gnb_train_report = classification_report(train_data['sentiment_status'], gnb_train_predicted_labels)\n",
        "gnb_test_predicted_labels = gnb.predict(test_features.toarray())\n",
        "gnb_test_accuracy = accuracy_score(test_data['sentiment_status'], gnb_test_predicted_labels)\n",
        "gnb_test_report = classification_report(test_data['sentiment_status'], gnb_test_predicted_labels)\n",
        "reports['Gaussian NB'] = {\n",
        "    'train_accuracy': gnb_train_accuracy,\n",
        "    'train_classification_report': gnb_train_report,\n",
        "    'test_accuracy': gnb_test_accuracy,\n",
        "    'test_classification_report': gnb_test_report\n",
        "}\n",
        "\n",
        "# Train and test Multinomial Naive Bayes classifier\n",
        "mnb = MultinomialNB()\n",
        "mnb.fit(train_features, train_data['sentiment_status'])\n",
        "mnb_train_predicted_labels = mnb.predict(train_features)\n",
        "mnb_train_accuracy = accuracy_score(train_data['sentiment_status'], mnb_train_predicted_labels)\n",
        "mnb_train_report = classification_report(train_data['sentiment_status'], mnb_train_predicted_labels)\n",
        "mnb_test_predicted_labels = mnb.predict(test_features)\n",
        "mnb_test_accuracy = accuracy_score(test_data['sentiment_status'], mnb_test_predicted_labels)\n",
        "mnb_test_report = classification_report(test_data['sentiment_status'], mnb_test_predicted_labels)\n",
        "reports['Multinomial NB'] = {\n",
        "    'train_accuracy': mnb_train_accuracy,\n",
        "    'train_classification_report': mnb_train_report,\n",
        "    'test_accuracy': mnb_test_accuracy,\n",
        "    'test_classification_report': mnb_test_report\n",
        "}\n",
        "\n",
        "# Train and test Bernoulli Naive Bayes classifier\n",
        "bnb = BernoulliNB()\n",
        "bnb.fit(train_features, train_data['sentiment_status'])\n",
        "bnb_train_predicted_labels = bnb.predict(train_features)\n",
        "bnb_train_accuracy = accuracy_score(train_data['sentiment_status'], bnb_train_predicted_labels)\n",
        "bnb_train_report = classification_report(train_data['sentiment_status'], bnb_train_predicted_labels)\n",
        "bnb_test_predicted_labels = bnb.predict(test_features)\n",
        "bnb_test_accuracy = accuracy_score(test_data['sentiment_status'], bnb_test_predicted_labels)\n",
        "bnb_test_report = classification_report(test_data['sentiment_status'], bnb_test_predicted_labels)\n",
        "reports['Bernoulli NB'] = {\n",
        "    'train_accuracy': bnb_train_accuracy,\n",
        "    'train_classification_report': bnb_train_report,\n",
        "    'test_accuracy': bnb_test_accuracy,\n",
        "    'test_classification_report': bnb_test_report\n",
        "}\n",
        "\n",
        "# Train and test Complement Naive Bayes classifier\n",
        "cnb = ComplementNB()\n",
        "cnb.fit(train_features, train_data['sentiment_status'])\n",
        "cnb_train_predicted_labels = cnb.predict(train_features)\n",
        "cnb_train_accuracy = accuracy_score(train_data['sentiment_status'], cnb_train_predicted_labels)\n",
        "cnb_train_report = classification_report(train_data['sentiment_status'], cnb_train_predicted_labels)\n",
        "cnb_test_predicted_labels = cnb.predict(test_features)\n",
        "cnb_test_accuracy = accuracy_score(test_data['sentiment_status'], cnb_test_predicted_labels)\n",
        "cnb_test_report = classification_report(test_data['sentiment_status'], cnb_test_predicted_labels)\n",
        "reports['Complement NB'] = {\n",
        "    'train_accuracy': cnb_train_accuracy,\n",
        "    'train_classification_report': cnb_train_report,\n",
        "    'test_accuracy': cnb_test_accuracy,\n",
        "    'test_classification_report': cnb_test_report\n",
        "}\n",
        "\n",
        "# Print classification reports\n",
        "for algorithm, report in reports.items():\n",
        "    print(f'{algorithm} Training Accuracy:', report['train_accuracy'])\n",
        "    print(f'{algorithm} Training Classification Report:\\n', report['train_classification_report'])\n",
        "    print(f'{algorithm} Test Accuracy:', report['test_accuracy'])\n",
        "    print(f'{algorithm} Test Classification Report:\\n', report['test_classification_report'])"
      ]
    },
    {
      "cell_type": "markdown",
      "metadata": {
        "id": "Z-ZodBRd9j9X"
      },
      "source": [
        "#Decision Tree"
      ]
    },
    {
      "cell_type": "code",
      "execution_count": null,
      "metadata": {
        "colab": {
          "base_uri": "https://localhost:8080/"
        },
        "id": "trxEXPTe-W60",
        "outputId": "9a563272-6395-455a-f75a-1ae358c59f75"
      },
      "outputs": [
        {
          "name": "stdout",
          "output_type": "stream",
          "text": [
            "Classification Report (Train Data):\n",
            "               precision    recall  f1-score   support\n",
            "\n",
            "    negative       0.97      1.00      0.99      2194\n",
            "     neutral       1.00      0.99      0.99     10415\n",
            "    positive       1.00      0.97      0.98      1296\n",
            "\n",
            "    accuracy                           0.99     13905\n",
            "   macro avg       0.99      0.99      0.99     13905\n",
            "weighted avg       0.99      0.99      0.99     13905\n",
            "\n",
            "Classification Report (Test Data):\n",
            "               precision    recall  f1-score   support\n",
            "\n",
            "    negative       0.36      0.33      0.35       709\n",
            "     neutral       0.82      0.84      0.83      3492\n",
            "    positive       0.48      0.45      0.46       435\n",
            "\n",
            "    accuracy                           0.73      4636\n",
            "   macro avg       0.55      0.54      0.55      4636\n",
            "weighted avg       0.72      0.73      0.72      4636\n",
            "\n"
          ]
        }
      ],
      "source": [
        "from sklearn.feature_extraction.text import TfidfVectorizer\n",
        "from sklearn.tree import DecisionTreeClassifier\n",
        "from sklearn.model_selection import train_test_split\n",
        "from sklearn.metrics import classification_report\n",
        "\n",
        "# Load data into a pandas DataFrame\n",
        "df = pd.read_csv('cleaned-all-final.CSV')\n",
        "\n",
        "# Split the data into training and testing sets\n",
        "X_train, X_test, y_train, y_test = train_test_split(df['cleaned_text'], df['sentiment_status'], random_state=42)\n",
        "\n",
        "# Convert the tweet text into a matrix of TF-IDF features\n",
        "vectorizer = TfidfVectorizer()\n",
        "X_train = vectorizer.fit_transform(X_train)\n",
        "X_test = vectorizer.transform(X_test)\n",
        "\n",
        "# Train a decision tree classifier on the training data\n",
        "clf = DecisionTreeClassifier()\n",
        "clf.fit(X_train, y_train)\n",
        "\n",
        "# Predict the labels for the training and testing data\n",
        "y_pred_train = clf.predict(X_train)\n",
        "y_pred_test = clf.predict(X_test)\n",
        "\n",
        "# Print the classification report for the training data\n",
        "report_train = classification_report(y_train, y_pred_train)\n",
        "print(\"Classification Report (Train Data):\\n\", report_train)\n",
        "\n",
        "# Print the classification report for the testing data\n",
        "report_test = classification_report(y_test, y_pred_test)\n",
        "print(\"Classification Report (Test Data):\\n\", report_test)"
      ]
    },
    {
      "cell_type": "markdown",
      "metadata": {
        "id": "kz1V7AuG_BMJ"
      },
      "source": [
        "#TF-IDF/Knn"
      ]
    },
    {
      "cell_type": "code",
      "execution_count": null,
      "metadata": {
        "colab": {
          "base_uri": "https://localhost:8080/"
        },
        "id": "Dn4zs4yS_CjB",
        "outputId": "ffafcc08-8a8a-4cef-812b-9cd354f722e8"
      },
      "outputs": [
        {
          "name": "stdout",
          "output_type": "stream",
          "text": [
            "Classification Report - Training Data:\n",
            "              precision    recall  f1-score   support\n",
            "\n",
            "    negative       0.86      0.12      0.22      2340\n",
            "     neutral       0.78      0.99      0.87     11098\n",
            "    positive       0.83      0.25      0.38      1394\n",
            "\n",
            "    accuracy                           0.79     14832\n",
            "   macro avg       0.82      0.45      0.49     14832\n",
            "weighted avg       0.80      0.79      0.72     14832\n",
            "\n",
            "Classification Report - Testing Data:\n",
            "              precision    recall  f1-score   support\n",
            "\n",
            "    negative       0.61      0.09      0.15       563\n",
            "     neutral       0.78      0.98      0.87      2809\n",
            "    positive       0.65      0.17      0.27       337\n",
            "\n",
            "    accuracy                           0.77      3709\n",
            "   macro avg       0.68      0.41      0.43      3709\n",
            "weighted avg       0.74      0.77      0.71      3709\n",
            "\n"
          ]
        }
      ],
      "source": [
        "from sklearn.feature_extraction.text import TfidfVectorizer\n",
        "from sklearn.neighbors import KNeighborsClassifier\n",
        "from sklearn.model_selection import train_test_split\n",
        "from sklearn.metrics import classification_report\n",
        "\n",
        "# Load the data\n",
        "df = pd.read_csv('cleaned-all-final.CSV')\n",
        "\n",
        "# Split the data into training and testing sets\n",
        "X_train, X_test, y_train, y_test = train_test_split(df['cleaned_text'], df['sentiment_status'], test_size=0.2, random_state=42)\n",
        "\n",
        "# Create a TF-IDF vectorizer\n",
        "vectorizer = TfidfVectorizer()\n",
        "\n",
        "# Transform the training and testing data using the TF-IDF vectorizer\n",
        "X_train_tfidf = vectorizer.fit_transform(X_train)\n",
        "X_test_tfidf = vectorizer.transform(X_test)\n",
        "\n",
        "# Train the kNN classifier on the training data\n",
        "k = 5\n",
        "clf = KNeighborsClassifier(n_neighbors=k)\n",
        "clf.fit(X_train_tfidf, y_train)\n",
        "\n",
        "# Test the kNN classifier on the training data\n",
        "y_train_pred = clf.predict(X_train_tfidf)\n",
        "\n",
        "# Generate a classification report for training data\n",
        "print(\"Classification Report - Training Data:\")\n",
        "print(classification_report(y_train, y_train_pred))\n",
        "\n",
        "# Test the kNN classifier on the testing data\n",
        "y_test_pred = clf.predict(X_test_tfidf)\n",
        "\n",
        "# Generate a classification report for testing data\n",
        "print(\"Classification Report - Testing Data:\")\n",
        "print(classification_report(y_test, y_test_pred))"
      ]
    },
    {
      "cell_type": "markdown",
      "metadata": {
        "id": "Z-7oq6zPeGOF"
      },
      "source": [
        "#Using Pre-trained Model Directly"
      ]
    },
    {
      "cell_type": "markdown",
      "metadata": {
        "id": "RQ-Z7GFohzfG"
      },
      "source": [
        "https://huggingface.co/mdhugol/indonesia-bert-sentiment-classification"
      ]
    },
    {
      "cell_type": "markdown",
      "metadata": {
        "id": "gNGWkzvsg4bQ"
      },
      "source": [
        "##Examples"
      ]
    },
    {
      "cell_type": "code",
      "execution_count": null,
      "metadata": {
        "colab": {
          "base_uri": "https://localhost:8080/",
          "height": 266,
          "referenced_widgets": [
            "55ad0ad725ad4a26b30c3f940693131e",
            "147c39e94103439090a77c9efed8f587",
            "ab0e0efdf52e48ed9f939d700fac4566",
            "1502ef6c0aff43999afd9dab02cde339",
            "bfc8df457eef43219acacdec92559582",
            "46feddc0f3c74e28a0d82d3e0b7c5281",
            "c53c3f1cb9ca4510bd7f0f79b67180ab",
            "1c4cace361b743fdaac36e1f79c15388",
            "be9d2dc0d81247f182c9afa27fc12c70",
            "405465d795774bb79a864307e67340b9",
            "c7e263e5bb2b40a58e2f9ca2bf54e343",
            "66b0d39f015445039d2bd00f35e64539",
            "013083841197488ab253225f1d95bccb",
            "491dc29db9d847b79a64333d5792e245",
            "3d6cd56fdad2409da41d1b51547bf09e",
            "b415bd5d94de400a87a1c690f80f09c1",
            "70335bef72ff43eea4b73f867880d489",
            "2c3d7688502c4e099a730d2b0f5ef6e7",
            "3fd0fd5eec46465c9a8dbb7b72f0e929",
            "2e78bdaf95e44bce9037fe2a47f9372c",
            "b6ec30cc14b54147b933424a6577c5db",
            "04b5f667892c407c85a0f9c595b22674",
            "c39be4826ffa4b6a9f59dba68b85df1a",
            "2c432eded27141f2b3c3677ae94e1955",
            "680f73fda75f4187ab51d5c717d847d9",
            "f54bbd5711b743ddbbe310aacbaa62fd",
            "c684e6d0bd2c4fefbf2887cc4ffdb5aa",
            "282a3005b0d84ed69c16ea349a0e56b7",
            "25a7259780214d91836fc2d16c771cd3",
            "f6118c400b7d4059b598a563d5ac0c02",
            "3fb04559e34d4f8f8098f0c59f773ce4",
            "4db232bf2d994b339074354cd1d6caac",
            "c26c171c67284c3ea9df3d066d1a90d5",
            "14c0ffed896e4b2d9a6fdf95d4dc5dac",
            "ab1dedf47ac141d4895e37bad6aa330f",
            "568f892ddf7446aca98a60c781c8e985",
            "0055d3ae28d243fcb61010df86eb760a",
            "388aecbf1ff94e5a9c0e236d329a8d47",
            "744ca449962c450a96650423da4f5762",
            "4d2a444468e444079101095c7983c764",
            "c1c44f2d21cb4e2cb5a4da9e6d085fdb",
            "8ff84280b0a1441eaf13601af4d4e5a7",
            "80100c415bdf42e0add16fe217dcccd6",
            "9b96ff39349d44408b51e65ad5a26692",
            "e325f5f29e404f93817a5b7192804d07",
            "8e1ecaa64ee947ffb0fd1c4f7dea4e8b",
            "45c5a037c126472db621671d32ed336b",
            "f37c70a956af4e6ba04a0934b299cf6e",
            "9cf64448d2064cdfad011b6e72d6907a",
            "86a8a49097dc4655b6497602c6e02574",
            "d8df20735bbe4159adf813cda4ffb24a",
            "3388cac91b504bb3bc470c80b291e59c",
            "398fccb309724fed9676007cad2e4fb5",
            "762a257214e74cbea528dd719f138f03",
            "0ad4a67105b24653aefdfbf9efc5e4e4"
          ]
        },
        "id": "Tu8C3aTDeFyr",
        "outputId": "dd0487c4-9ce6-44e7-ad48-2ee793b56135"
      },
      "outputs": [
        {
          "data": {
            "application/vnd.jupyter.widget-view+json": {
              "model_id": "55ad0ad725ad4a26b30c3f940693131e",
              "version_major": 2,
              "version_minor": 0
            },
            "text/plain": [
              "Downloading (…)lve/main/config.json:   0%|          | 0.00/1.17k [00:00<?, ?B/s]"
            ]
          },
          "metadata": {},
          "output_type": "display_data"
        },
        {
          "data": {
            "application/vnd.jupyter.widget-view+json": {
              "model_id": "66b0d39f015445039d2bd00f35e64539",
              "version_major": 2,
              "version_minor": 0
            },
            "text/plain": [
              "Downloading pytorch_model.bin:   0%|          | 0.00/498M [00:00<?, ?B/s]"
            ]
          },
          "metadata": {},
          "output_type": "display_data"
        },
        {
          "data": {
            "application/vnd.jupyter.widget-view+json": {
              "model_id": "c39be4826ffa4b6a9f59dba68b85df1a",
              "version_major": 2,
              "version_minor": 0
            },
            "text/plain": [
              "Downloading (…)okenizer_config.json:   0%|          | 0.00/2.00 [00:00<?, ?B/s]"
            ]
          },
          "metadata": {},
          "output_type": "display_data"
        },
        {
          "data": {
            "application/vnd.jupyter.widget-view+json": {
              "model_id": "14c0ffed896e4b2d9a6fdf95d4dc5dac",
              "version_major": 2,
              "version_minor": 0
            },
            "text/plain": [
              "Downloading (…)solve/main/vocab.txt:   0%|          | 0.00/229k [00:00<?, ?B/s]"
            ]
          },
          "metadata": {},
          "output_type": "display_data"
        },
        {
          "data": {
            "application/vnd.jupyter.widget-view+json": {
              "model_id": "e325f5f29e404f93817a5b7192804d07",
              "version_major": 2,
              "version_minor": 0
            },
            "text/plain": [
              "Downloading (…)cial_tokens_map.json:   0%|          | 0.00/112 [00:00<?, ?B/s]"
            ]
          },
          "metadata": {},
          "output_type": "display_data"
        },
        {
          "name": "stderr",
          "output_type": "stream",
          "text": [
            "Xformers is not installed correctly. If you want to use memorry_efficient_attention to accelerate training use the following command to install Xformers\n",
            "pip install xformers.\n"
          ]
        },
        {
          "name": "stdout",
          "output_type": "stream",
          "text": [
            "Text: Sangat bahagia hari ini | Label : positive (99.481%)\n",
            "Text: Dasar anak sialan!! Kurang ajar!! | Label : negative (99.828%)\n"
          ]
        }
      ],
      "source": [
        "from transformers import pipeline\n",
        "from transformers import AutoTokenizer, AutoModelForSequenceClassification\n",
        "\n",
        "pretrained= \"mdhugol/indonesia-bert-sentiment-classification\"\n",
        "\n",
        "model = AutoModelForSequenceClassification.from_pretrained(pretrained)\n",
        "tokenizer = AutoTokenizer.from_pretrained(pretrained)\n",
        "\n",
        "sentiment_analysis = pipeline(\"sentiment-analysis\", model=model, tokenizer=tokenizer)\n",
        "\n",
        "label_index = {'LABEL_0': 'positive', 'LABEL_1': 'neutral', 'LABEL_2': 'negative'}\n",
        "\n",
        "pos_text = \"Sangat bahagia hari ini\"\n",
        "neg_text = \"Dasar anak sialan!! Kurang ajar!!\"\n",
        "\n",
        "result = sentiment_analysis(pos_text)\n",
        "status = label_index[result[0]['label']]\n",
        "score = result[0]['score']\n",
        "print(f'Text: {pos_text} | Label : {status} ({score * 100:.3f}%)')\n",
        "\n",
        "result = sentiment_analysis(neg_text)\n",
        "status = label_index[result[0]['label']]\n",
        "score = result[0]['score']\n",
        "print(f'Text: {neg_text} | Label : {status} ({score * 100:.3f}%)')"
      ]
    },
    {
      "cell_type": "markdown",
      "metadata": {
        "id": "_rtfXv_rg5oz"
      },
      "source": [
        "##Data sendiri ygy"
      ]
    },
    {
      "cell_type": "code",
      "execution_count": null,
      "metadata": {
        "colab": {
          "base_uri": "https://localhost:8080/"
        },
        "id": "QRCraO3hg7Gc",
        "outputId": "d75266cf-e87b-4324-ddc2-943b526877d9"
      },
      "outputs": [
        {
          "name": "stdout",
          "output_type": "stream",
          "text": [
            "                                            cleaned_text sentiment_status sentiment_result percentage\n",
            "0      jerit sopir angkutan kota kota bandung beli pe...         negative         negative  97.098225\n",
            "1      dear kayaknya pengaturan maps tujuan dibenarka...         negative          neutral   99.55948\n",
            "2      bus selesai oi odan the way sedadang jaladan h...         negative          neutral   56.41436\n",
            "3      eta transportasi masal keluarga garut bandung ...         negative         negative  99.215525\n",
            "4      pagi nya keliling apartemen mencerahkn pagiku ...         negative         positive  79.898059\n",
            "...                                                  ...              ...              ...        ...\n",
            "18536  ide iyang keren terobosan bernama integrasi an...         positive         positive  57.225907\n",
            "18537  ammargil dear jokowi kemacetan jakarta nalar k...         positive          neutral  95.966345\n",
            "18538  msupasitina good mewning mewlions are ready fo...         positive          neutral  96.785253\n",
            "18539  bentuk bakti samaasyarakat kepolisian republik...         positive          neutral  99.648428\n",
            "18540  hatiku kayak bus kopaja jakarta penuh sesak ci...         positive         negative  92.271513\n",
            "\n",
            "[18541 rows x 4 columns]\n"
          ]
        }
      ],
      "source": [
        "pretrained = \"mdhugol/indonesia-bert-sentiment-classification\"\n",
        "\n",
        "model = AutoModelForSequenceClassification.from_pretrained(pretrained)\n",
        "tokenizer = AutoTokenizer.from_pretrained(pretrained)\n",
        "\n",
        "sentiment_analysis = pipeline(\"sentiment-analysis\", model=model, tokenizer=tokenizer)\n",
        "\n",
        "label_index = {'LABEL_0': 'positive', 'LABEL_1': 'neutral', 'LABEL_2': 'negative'}\n",
        "\n",
        "# Load your data from CSV\n",
        "data = pd.read_csv('cleaned-all-final.CSV')\n",
        "\n",
        "# Create empty columns for sentiment result and percentage\n",
        "data['sentiment_result'] = ''\n",
        "data['percentage'] = ''\n",
        "\n",
        "# Iterate over each row and perform sentiment analysis\n",
        "for index, row in data.iterrows():\n",
        "    text = row['cleaned_text']\n",
        "    result = sentiment_analysis(text)\n",
        "    status = label_index[result[0]['label']]\n",
        "    score = result[0]['score']\n",
        "    percentage = score * 100\n",
        "    data.at[index, 'sentiment_result'] = status\n",
        "    data.at[index, 'percentage'] = percentage\n",
        "\n",
        "# Print the modified data with the expected columns\n",
        "print(data[['cleaned_text', 'sentiment_status', 'sentiment_result', 'percentage']])"
      ]
    },
    {
      "cell_type": "code",
      "execution_count": null,
      "metadata": {
        "colab": {
          "base_uri": "https://localhost:8080/"
        },
        "id": "UpJwhW8Nm-Uf",
        "outputId": "7315af1e-315d-4791-878e-dc7b526cff5f"
      },
      "outputs": [
        {
          "output_type": "stream",
          "name": "stdout",
          "text": [
            "Accuracy: 0.6165794725203603\n",
            "Precision: 0.7388651216006364\n",
            "Recall: 0.6165794725203603\n",
            "F1 Score: 0.6500145547437908\n"
          ]
        }
      ],
      "source": [
        "import pandas as pd\n",
        "from sklearn.metrics import accuracy_score, precision_score, recall_score, f1_score\n",
        "\n",
        "# Example dataframe\n",
        "data = pd.read_csv('hasil-pretrained-tanpa-fine-tuning.csv')\n",
        "\n",
        "# Extract labels and predicted values from the dataframe\n",
        "labels = data['LABEL'].tolist()\n",
        "predicted = data['PREDICTED'].tolist()\n",
        "\n",
        "# Calculate accuracy\n",
        "accuracy = accuracy_score(labels, predicted)\n",
        "print(\"Accuracy:\", accuracy)\n",
        "\n",
        "# Calculate precision\n",
        "precision = precision_score(labels, predicted, average='weighted')\n",
        "print(\"Precision:\", precision)\n",
        "\n",
        "# Calculate recall\n",
        "recall = recall_score(labels, predicted, average='weighted')\n",
        "print(\"Recall:\", recall)\n",
        "\n",
        "# Calculate F1 score\n",
        "f1 = f1_score(labels, predicted, average='weighted')\n",
        "print(\"F1 Score:\", f1)"
      ]
    },
    {
      "cell_type": "markdown",
      "source": [
        "#Testing Models"
      ],
      "metadata": {
        "id": "Ihozw9wQJa7a"
      }
    },
    {
      "cell_type": "code",
      "source": [
        "import os.path\n",
        "from os import path\n",
        "\n",
        "path.exists(\"/content/drive/MyDrive/[dataset-thesis/used-model/model-20ep-05-03-2023-01-17-23-batch-16lr-3e-05\")"
      ],
      "metadata": {
        "colab": {
          "base_uri": "https://localhost:8080/"
        },
        "id": "bUMbIYuHM150",
        "outputId": "2e0b4698-3f2c-4857-bc41-d7195b6b9f94"
      },
      "execution_count": null,
      "outputs": [
        {
          "output_type": "execute_result",
          "data": {
            "text/plain": [
              "True"
            ]
          },
          "metadata": {},
          "execution_count": 8
        }
      ]
    },
    {
      "cell_type": "code",
      "source": [
        "saved_model = torch.load('./content/drive/MyDrive/[dataset-thesis/used-model/model-20ep-05-03-2023-01-17-23-batch-16lr-3e-05')"
      ],
      "metadata": {
        "id": "IuXt1vRtNPjZ"
      },
      "execution_count": null,
      "outputs": []
    },
    {
      "cell_type": "code",
      "source": [
        "import pandas as pd\n",
        "import torch\n",
        "from transformers import AutoTokenizer, AutoModelForSequenceClassification\n",
        "\n",
        "# Load the fine-tuned IndoBERT model\n",
        "\n",
        "model = AutoModelForSequenceClassification.from_pretrained('dionisiuspr/IndoBERT-SA-thesis')\n",
        "tokenizer = AutoTokenizer.from_pretrained('dionisiuspr/IndoBERT-SA-thesis')\n",
        "\n",
        "# Define the device to run the model on\n",
        "device = torch.device(\"cuda\" if torch.cuda.is_available() else \"cpu\")\n",
        "model.to(device)\n",
        "\n",
        "# Load and preprocess the new data from CSV\n",
        "data_path = \"test-data.csv\"\n",
        "df = pd.read_csv(data_path)\n",
        "\n",
        "# Extract the \"text\" column from the dataframe\n",
        "texts = df[\"text\"].tolist()\n",
        "\n",
        "# Preprocess text and tokenize the input data\n",
        "encoded_input = tokenizer(texts, padding=True, truncation=True, return_tensors=\"pt\")\n",
        "input_ids = encoded_input[\"input_ids\"].to(device)\n",
        "attention_mask = encoded_input[\"attention_mask\"].to(device)\n",
        "\n",
        "# Perform inference and get predictions\n",
        "with torch.no_grad():\n",
        "    model.eval()\n",
        "    logits = model(input_ids, attention_mask=attention_mask)[0]\n",
        "    probabilities = torch.softmax(logits, dim=1)\n",
        "    predicted_labels = torch.argmax(probabilities, dim=1).tolist()\n",
        "\n",
        "# Map predicted labels to sentiment categories\n",
        "label_map = {0: \"negative\", 1: \"neutral\", 2: \"positive\"}\n",
        "predicted_sentiments = [label_map[label] for label in predicted_labels]\n",
        "\n",
        "# Add predicted sentiments to the dataframe\n",
        "df[\"predicted_sentiment\"] = predicted_sentiments\n",
        "\n",
        "# Save the dataframe with predicted sentiments to a new CSV\n",
        "output_path = \"/content/drive/MyDrive/[dataset-thesis/used-model/results.csv\"\n",
        "df.to_csv(output_path, index=False)"
      ],
      "metadata": {
        "colab": {
          "base_uri": "https://localhost:8080/",
          "height": 397
        },
        "id": "kEWtbcX2JaOg",
        "outputId": "b41073b3-62f1-497c-a49e-aa0678a6aaa8"
      },
      "execution_count": null,
      "outputs": [
        {
          "output_type": "error",
          "ename": "OSError",
          "evalue": "ignored",
          "traceback": [
            "\u001b[0;31m---------------------------------------------------------------------------\u001b[0m",
            "\u001b[0;31mOSError\u001b[0m                                   Traceback (most recent call last)",
            "\u001b[0;32m<ipython-input-6-2476b5448aba>\u001b[0m in \u001b[0;36m<cell line: 7>\u001b[0;34m()\u001b[0m\n\u001b[1;32m      5\u001b[0m \u001b[0;31m# Load the fine-tuned IndoBERT model\u001b[0m\u001b[0;34m\u001b[0m\u001b[0;34m\u001b[0m\u001b[0m\n\u001b[1;32m      6\u001b[0m \u001b[0;34m\u001b[0m\u001b[0m\n\u001b[0;32m----> 7\u001b[0;31m \u001b[0mmodel\u001b[0m \u001b[0;34m=\u001b[0m \u001b[0mAutoModelForSequenceClassification\u001b[0m\u001b[0;34m.\u001b[0m\u001b[0mfrom_pretrained\u001b[0m\u001b[0;34m(\u001b[0m\u001b[0;34m'dionisiuspr/IndoBERT-SA-thesis'\u001b[0m\u001b[0;34m)\u001b[0m\u001b[0;34m\u001b[0m\u001b[0;34m\u001b[0m\u001b[0m\n\u001b[0m\u001b[1;32m      8\u001b[0m \u001b[0mtokenizer\u001b[0m \u001b[0;34m=\u001b[0m \u001b[0mAutoTokenizer\u001b[0m\u001b[0;34m.\u001b[0m\u001b[0mfrom_pretrained\u001b[0m\u001b[0;34m(\u001b[0m\u001b[0;34m'dionisiuspr/IndoBERT-SA-thesis'\u001b[0m\u001b[0;34m)\u001b[0m\u001b[0;34m\u001b[0m\u001b[0;34m\u001b[0m\u001b[0m\n\u001b[1;32m      9\u001b[0m \u001b[0;34m\u001b[0m\u001b[0m\n",
            "\u001b[0;32m/usr/local/lib/python3.10/dist-packages/transformers/models/auto/auto_factory.py\u001b[0m in \u001b[0;36mfrom_pretrained\u001b[0;34m(cls, pretrained_model_name_or_path, *model_args, **kwargs)\u001b[0m\n\u001b[1;32m    465\u001b[0m         \u001b[0;32melif\u001b[0m \u001b[0mtype\u001b[0m\u001b[0;34m(\u001b[0m\u001b[0mconfig\u001b[0m\u001b[0;34m)\u001b[0m \u001b[0;32min\u001b[0m \u001b[0mcls\u001b[0m\u001b[0;34m.\u001b[0m\u001b[0m_model_mapping\u001b[0m\u001b[0;34m.\u001b[0m\u001b[0mkeys\u001b[0m\u001b[0;34m(\u001b[0m\u001b[0;34m)\u001b[0m\u001b[0;34m:\u001b[0m\u001b[0;34m\u001b[0m\u001b[0;34m\u001b[0m\u001b[0m\n\u001b[1;32m    466\u001b[0m             \u001b[0mmodel_class\u001b[0m \u001b[0;34m=\u001b[0m \u001b[0m_get_model_class\u001b[0m\u001b[0;34m(\u001b[0m\u001b[0mconfig\u001b[0m\u001b[0;34m,\u001b[0m \u001b[0mcls\u001b[0m\u001b[0;34m.\u001b[0m\u001b[0m_model_mapping\u001b[0m\u001b[0;34m)\u001b[0m\u001b[0;34m\u001b[0m\u001b[0;34m\u001b[0m\u001b[0m\n\u001b[0;32m--> 467\u001b[0;31m             return model_class.from_pretrained(\n\u001b[0m\u001b[1;32m    468\u001b[0m                 \u001b[0mpretrained_model_name_or_path\u001b[0m\u001b[0;34m,\u001b[0m \u001b[0;34m*\u001b[0m\u001b[0mmodel_args\u001b[0m\u001b[0;34m,\u001b[0m \u001b[0mconfig\u001b[0m\u001b[0;34m=\u001b[0m\u001b[0mconfig\u001b[0m\u001b[0;34m,\u001b[0m \u001b[0;34m**\u001b[0m\u001b[0mhub_kwargs\u001b[0m\u001b[0;34m,\u001b[0m \u001b[0;34m**\u001b[0m\u001b[0mkwargs\u001b[0m\u001b[0;34m\u001b[0m\u001b[0;34m\u001b[0m\u001b[0m\n\u001b[1;32m    469\u001b[0m             )\n",
            "\u001b[0;32m/usr/local/lib/python3.10/dist-packages/transformers/modeling_utils.py\u001b[0m in \u001b[0;36mfrom_pretrained\u001b[0;34m(cls, pretrained_model_name_or_path, *model_args, **kwargs)\u001b[0m\n\u001b[1;32m   2491\u001b[0m                             )\n\u001b[1;32m   2492\u001b[0m                         \u001b[0;32melse\u001b[0m\u001b[0;34m:\u001b[0m\u001b[0;34m\u001b[0m\u001b[0;34m\u001b[0m\u001b[0m\n\u001b[0;32m-> 2493\u001b[0;31m                             raise EnvironmentError(\n\u001b[0m\u001b[1;32m   2494\u001b[0m                                 \u001b[0;34mf\"{pretrained_model_name_or_path} does not appear to have a file named\"\u001b[0m\u001b[0;34m\u001b[0m\u001b[0;34m\u001b[0m\u001b[0m\n\u001b[1;32m   2495\u001b[0m                                 \u001b[0;34mf\" {_add_variant(WEIGHTS_NAME, variant)}, {TF2_WEIGHTS_NAME}, {TF_WEIGHTS_NAME} or\"\u001b[0m\u001b[0;34m\u001b[0m\u001b[0;34m\u001b[0m\u001b[0m\n",
            "\u001b[0;31mOSError\u001b[0m: dionisiuspr/IndoBERT-SA-thesis does not appear to have a file named pytorch_model.bin, tf_model.h5, model.ckpt or flax_model.msgpack."
          ]
        }
      ]
    }
  ],
  "metadata": {
    "accelerator": "GPU",
    "colab": {
      "machine_shape": "hm",
      "provenance": []
    },
    "gpuClass": "standard",
    "kernelspec": {
      "display_name": "Python 3",
      "name": "python3"
    },
    "language_info": {
      "name": "python"
    },
    "widgets": {
      "application/vnd.jupyter.widget-state+json": {
        "0055d3ae28d243fcb61010df86eb760a": {
          "model_module": "@jupyter-widgets/controls",
          "model_module_version": "1.5.0",
          "model_name": "HTMLModel",
          "state": {
            "_dom_classes": [],
            "_model_module": "@jupyter-widgets/controls",
            "_model_module_version": "1.5.0",
            "_model_name": "HTMLModel",
            "_view_count": null,
            "_view_module": "@jupyter-widgets/controls",
            "_view_module_version": "1.5.0",
            "_view_name": "HTMLView",
            "description": "",
            "description_tooltip": null,
            "layout": "IPY_MODEL_80100c415bdf42e0add16fe217dcccd6",
            "placeholder": "​",
            "style": "IPY_MODEL_9b96ff39349d44408b51e65ad5a26692",
            "value": " 229k/229k [00:00&lt;00:00, 1.09MB/s]"
          }
        },
        "013083841197488ab253225f1d95bccb": {
          "model_module": "@jupyter-widgets/controls",
          "model_module_version": "1.5.0",
          "model_name": "HTMLModel",
          "state": {
            "_dom_classes": [],
            "_model_module": "@jupyter-widgets/controls",
            "_model_module_version": "1.5.0",
            "_model_name": "HTMLModel",
            "_view_count": null,
            "_view_module": "@jupyter-widgets/controls",
            "_view_module_version": "1.5.0",
            "_view_name": "HTMLView",
            "description": "",
            "description_tooltip": null,
            "layout": "IPY_MODEL_70335bef72ff43eea4b73f867880d489",
            "placeholder": "​",
            "style": "IPY_MODEL_2c3d7688502c4e099a730d2b0f5ef6e7",
            "value": "Downloading pytorch_model.bin: 100%"
          }
        },
        "04b5f667892c407c85a0f9c595b22674": {
          "model_module": "@jupyter-widgets/controls",
          "model_module_version": "1.5.0",
          "model_name": "DescriptionStyleModel",
          "state": {
            "_model_module": "@jupyter-widgets/controls",
            "_model_module_version": "1.5.0",
            "_model_name": "DescriptionStyleModel",
            "_view_count": null,
            "_view_module": "@jupyter-widgets/base",
            "_view_module_version": "1.2.0",
            "_view_name": "StyleView",
            "description_width": ""
          }
        },
        "0ad4a67105b24653aefdfbf9efc5e4e4": {
          "model_module": "@jupyter-widgets/controls",
          "model_module_version": "1.5.0",
          "model_name": "DescriptionStyleModel",
          "state": {
            "_model_module": "@jupyter-widgets/controls",
            "_model_module_version": "1.5.0",
            "_model_name": "DescriptionStyleModel",
            "_view_count": null,
            "_view_module": "@jupyter-widgets/base",
            "_view_module_version": "1.2.0",
            "_view_name": "StyleView",
            "description_width": ""
          }
        },
        "147c39e94103439090a77c9efed8f587": {
          "model_module": "@jupyter-widgets/controls",
          "model_module_version": "1.5.0",
          "model_name": "HTMLModel",
          "state": {
            "_dom_classes": [],
            "_model_module": "@jupyter-widgets/controls",
            "_model_module_version": "1.5.0",
            "_model_name": "HTMLModel",
            "_view_count": null,
            "_view_module": "@jupyter-widgets/controls",
            "_view_module_version": "1.5.0",
            "_view_name": "HTMLView",
            "description": "",
            "description_tooltip": null,
            "layout": "IPY_MODEL_46feddc0f3c74e28a0d82d3e0b7c5281",
            "placeholder": "​",
            "style": "IPY_MODEL_c53c3f1cb9ca4510bd7f0f79b67180ab",
            "value": "Downloading (…)lve/main/config.json: 100%"
          }
        },
        "14c0ffed896e4b2d9a6fdf95d4dc5dac": {
          "model_module": "@jupyter-widgets/controls",
          "model_module_version": "1.5.0",
          "model_name": "HBoxModel",
          "state": {
            "_dom_classes": [],
            "_model_module": "@jupyter-widgets/controls",
            "_model_module_version": "1.5.0",
            "_model_name": "HBoxModel",
            "_view_count": null,
            "_view_module": "@jupyter-widgets/controls",
            "_view_module_version": "1.5.0",
            "_view_name": "HBoxView",
            "box_style": "",
            "children": [
              "IPY_MODEL_ab1dedf47ac141d4895e37bad6aa330f",
              "IPY_MODEL_568f892ddf7446aca98a60c781c8e985",
              "IPY_MODEL_0055d3ae28d243fcb61010df86eb760a"
            ],
            "layout": "IPY_MODEL_388aecbf1ff94e5a9c0e236d329a8d47"
          }
        },
        "1502ef6c0aff43999afd9dab02cde339": {
          "model_module": "@jupyter-widgets/controls",
          "model_module_version": "1.5.0",
          "model_name": "HTMLModel",
          "state": {
            "_dom_classes": [],
            "_model_module": "@jupyter-widgets/controls",
            "_model_module_version": "1.5.0",
            "_model_name": "HTMLModel",
            "_view_count": null,
            "_view_module": "@jupyter-widgets/controls",
            "_view_module_version": "1.5.0",
            "_view_name": "HTMLView",
            "description": "",
            "description_tooltip": null,
            "layout": "IPY_MODEL_405465d795774bb79a864307e67340b9",
            "placeholder": "​",
            "style": "IPY_MODEL_c7e263e5bb2b40a58e2f9ca2bf54e343",
            "value": " 1.17k/1.17k [00:00&lt;00:00, 82.4kB/s]"
          }
        },
        "1c4cace361b743fdaac36e1f79c15388": {
          "model_module": "@jupyter-widgets/base",
          "model_module_version": "1.2.0",
          "model_name": "LayoutModel",
          "state": {
            "_model_module": "@jupyter-widgets/base",
            "_model_module_version": "1.2.0",
            "_model_name": "LayoutModel",
            "_view_count": null,
            "_view_module": "@jupyter-widgets/base",
            "_view_module_version": "1.2.0",
            "_view_name": "LayoutView",
            "align_content": null,
            "align_items": null,
            "align_self": null,
            "border": null,
            "bottom": null,
            "display": null,
            "flex": null,
            "flex_flow": null,
            "grid_area": null,
            "grid_auto_columns": null,
            "grid_auto_flow": null,
            "grid_auto_rows": null,
            "grid_column": null,
            "grid_gap": null,
            "grid_row": null,
            "grid_template_areas": null,
            "grid_template_columns": null,
            "grid_template_rows": null,
            "height": null,
            "justify_content": null,
            "justify_items": null,
            "left": null,
            "margin": null,
            "max_height": null,
            "max_width": null,
            "min_height": null,
            "min_width": null,
            "object_fit": null,
            "object_position": null,
            "order": null,
            "overflow": null,
            "overflow_x": null,
            "overflow_y": null,
            "padding": null,
            "right": null,
            "top": null,
            "visibility": null,
            "width": null
          }
        },
        "25a7259780214d91836fc2d16c771cd3": {
          "model_module": "@jupyter-widgets/controls",
          "model_module_version": "1.5.0",
          "model_name": "DescriptionStyleModel",
          "state": {
            "_model_module": "@jupyter-widgets/controls",
            "_model_module_version": "1.5.0",
            "_model_name": "DescriptionStyleModel",
            "_view_count": null,
            "_view_module": "@jupyter-widgets/base",
            "_view_module_version": "1.2.0",
            "_view_name": "StyleView",
            "description_width": ""
          }
        },
        "282a3005b0d84ed69c16ea349a0e56b7": {
          "model_module": "@jupyter-widgets/base",
          "model_module_version": "1.2.0",
          "model_name": "LayoutModel",
          "state": {
            "_model_module": "@jupyter-widgets/base",
            "_model_module_version": "1.2.0",
            "_model_name": "LayoutModel",
            "_view_count": null,
            "_view_module": "@jupyter-widgets/base",
            "_view_module_version": "1.2.0",
            "_view_name": "LayoutView",
            "align_content": null,
            "align_items": null,
            "align_self": null,
            "border": null,
            "bottom": null,
            "display": null,
            "flex": null,
            "flex_flow": null,
            "grid_area": null,
            "grid_auto_columns": null,
            "grid_auto_flow": null,
            "grid_auto_rows": null,
            "grid_column": null,
            "grid_gap": null,
            "grid_row": null,
            "grid_template_areas": null,
            "grid_template_columns": null,
            "grid_template_rows": null,
            "height": null,
            "justify_content": null,
            "justify_items": null,
            "left": null,
            "margin": null,
            "max_height": null,
            "max_width": null,
            "min_height": null,
            "min_width": null,
            "object_fit": null,
            "object_position": null,
            "order": null,
            "overflow": null,
            "overflow_x": null,
            "overflow_y": null,
            "padding": null,
            "right": null,
            "top": null,
            "visibility": null,
            "width": null
          }
        },
        "2c3d7688502c4e099a730d2b0f5ef6e7": {
          "model_module": "@jupyter-widgets/controls",
          "model_module_version": "1.5.0",
          "model_name": "DescriptionStyleModel",
          "state": {
            "_model_module": "@jupyter-widgets/controls",
            "_model_module_version": "1.5.0",
            "_model_name": "DescriptionStyleModel",
            "_view_count": null,
            "_view_module": "@jupyter-widgets/base",
            "_view_module_version": "1.2.0",
            "_view_name": "StyleView",
            "description_width": ""
          }
        },
        "2c432eded27141f2b3c3677ae94e1955": {
          "model_module": "@jupyter-widgets/controls",
          "model_module_version": "1.5.0",
          "model_name": "HTMLModel",
          "state": {
            "_dom_classes": [],
            "_model_module": "@jupyter-widgets/controls",
            "_model_module_version": "1.5.0",
            "_model_name": "HTMLModel",
            "_view_count": null,
            "_view_module": "@jupyter-widgets/controls",
            "_view_module_version": "1.5.0",
            "_view_name": "HTMLView",
            "description": "",
            "description_tooltip": null,
            "layout": "IPY_MODEL_282a3005b0d84ed69c16ea349a0e56b7",
            "placeholder": "​",
            "style": "IPY_MODEL_25a7259780214d91836fc2d16c771cd3",
            "value": "Downloading (…)okenizer_config.json: 100%"
          }
        },
        "2e78bdaf95e44bce9037fe2a47f9372c": {
          "model_module": "@jupyter-widgets/controls",
          "model_module_version": "1.5.0",
          "model_name": "ProgressStyleModel",
          "state": {
            "_model_module": "@jupyter-widgets/controls",
            "_model_module_version": "1.5.0",
            "_model_name": "ProgressStyleModel",
            "_view_count": null,
            "_view_module": "@jupyter-widgets/base",
            "_view_module_version": "1.2.0",
            "_view_name": "StyleView",
            "bar_color": null,
            "description_width": ""
          }
        },
        "3388cac91b504bb3bc470c80b291e59c": {
          "model_module": "@jupyter-widgets/base",
          "model_module_version": "1.2.0",
          "model_name": "LayoutModel",
          "state": {
            "_model_module": "@jupyter-widgets/base",
            "_model_module_version": "1.2.0",
            "_model_name": "LayoutModel",
            "_view_count": null,
            "_view_module": "@jupyter-widgets/base",
            "_view_module_version": "1.2.0",
            "_view_name": "LayoutView",
            "align_content": null,
            "align_items": null,
            "align_self": null,
            "border": null,
            "bottom": null,
            "display": null,
            "flex": null,
            "flex_flow": null,
            "grid_area": null,
            "grid_auto_columns": null,
            "grid_auto_flow": null,
            "grid_auto_rows": null,
            "grid_column": null,
            "grid_gap": null,
            "grid_row": null,
            "grid_template_areas": null,
            "grid_template_columns": null,
            "grid_template_rows": null,
            "height": null,
            "justify_content": null,
            "justify_items": null,
            "left": null,
            "margin": null,
            "max_height": null,
            "max_width": null,
            "min_height": null,
            "min_width": null,
            "object_fit": null,
            "object_position": null,
            "order": null,
            "overflow": null,
            "overflow_x": null,
            "overflow_y": null,
            "padding": null,
            "right": null,
            "top": null,
            "visibility": null,
            "width": null
          }
        },
        "388aecbf1ff94e5a9c0e236d329a8d47": {
          "model_module": "@jupyter-widgets/base",
          "model_module_version": "1.2.0",
          "model_name": "LayoutModel",
          "state": {
            "_model_module": "@jupyter-widgets/base",
            "_model_module_version": "1.2.0",
            "_model_name": "LayoutModel",
            "_view_count": null,
            "_view_module": "@jupyter-widgets/base",
            "_view_module_version": "1.2.0",
            "_view_name": "LayoutView",
            "align_content": null,
            "align_items": null,
            "align_self": null,
            "border": null,
            "bottom": null,
            "display": null,
            "flex": null,
            "flex_flow": null,
            "grid_area": null,
            "grid_auto_columns": null,
            "grid_auto_flow": null,
            "grid_auto_rows": null,
            "grid_column": null,
            "grid_gap": null,
            "grid_row": null,
            "grid_template_areas": null,
            "grid_template_columns": null,
            "grid_template_rows": null,
            "height": null,
            "justify_content": null,
            "justify_items": null,
            "left": null,
            "margin": null,
            "max_height": null,
            "max_width": null,
            "min_height": null,
            "min_width": null,
            "object_fit": null,
            "object_position": null,
            "order": null,
            "overflow": null,
            "overflow_x": null,
            "overflow_y": null,
            "padding": null,
            "right": null,
            "top": null,
            "visibility": null,
            "width": null
          }
        },
        "398fccb309724fed9676007cad2e4fb5": {
          "model_module": "@jupyter-widgets/controls",
          "model_module_version": "1.5.0",
          "model_name": "ProgressStyleModel",
          "state": {
            "_model_module": "@jupyter-widgets/controls",
            "_model_module_version": "1.5.0",
            "_model_name": "ProgressStyleModel",
            "_view_count": null,
            "_view_module": "@jupyter-widgets/base",
            "_view_module_version": "1.2.0",
            "_view_name": "StyleView",
            "bar_color": null,
            "description_width": ""
          }
        },
        "3d6cd56fdad2409da41d1b51547bf09e": {
          "model_module": "@jupyter-widgets/controls",
          "model_module_version": "1.5.0",
          "model_name": "HTMLModel",
          "state": {
            "_dom_classes": [],
            "_model_module": "@jupyter-widgets/controls",
            "_model_module_version": "1.5.0",
            "_model_name": "HTMLModel",
            "_view_count": null,
            "_view_module": "@jupyter-widgets/controls",
            "_view_module_version": "1.5.0",
            "_view_name": "HTMLView",
            "description": "",
            "description_tooltip": null,
            "layout": "IPY_MODEL_b6ec30cc14b54147b933424a6577c5db",
            "placeholder": "​",
            "style": "IPY_MODEL_04b5f667892c407c85a0f9c595b22674",
            "value": " 498M/498M [00:28&lt;00:00, 16.9MB/s]"
          }
        },
        "3fb04559e34d4f8f8098f0c59f773ce4": {
          "model_module": "@jupyter-widgets/controls",
          "model_module_version": "1.5.0",
          "model_name": "ProgressStyleModel",
          "state": {
            "_model_module": "@jupyter-widgets/controls",
            "_model_module_version": "1.5.0",
            "_model_name": "ProgressStyleModel",
            "_view_count": null,
            "_view_module": "@jupyter-widgets/base",
            "_view_module_version": "1.2.0",
            "_view_name": "StyleView",
            "bar_color": null,
            "description_width": ""
          }
        },
        "3fd0fd5eec46465c9a8dbb7b72f0e929": {
          "model_module": "@jupyter-widgets/base",
          "model_module_version": "1.2.0",
          "model_name": "LayoutModel",
          "state": {
            "_model_module": "@jupyter-widgets/base",
            "_model_module_version": "1.2.0",
            "_model_name": "LayoutModel",
            "_view_count": null,
            "_view_module": "@jupyter-widgets/base",
            "_view_module_version": "1.2.0",
            "_view_name": "LayoutView",
            "align_content": null,
            "align_items": null,
            "align_self": null,
            "border": null,
            "bottom": null,
            "display": null,
            "flex": null,
            "flex_flow": null,
            "grid_area": null,
            "grid_auto_columns": null,
            "grid_auto_flow": null,
            "grid_auto_rows": null,
            "grid_column": null,
            "grid_gap": null,
            "grid_row": null,
            "grid_template_areas": null,
            "grid_template_columns": null,
            "grid_template_rows": null,
            "height": null,
            "justify_content": null,
            "justify_items": null,
            "left": null,
            "margin": null,
            "max_height": null,
            "max_width": null,
            "min_height": null,
            "min_width": null,
            "object_fit": null,
            "object_position": null,
            "order": null,
            "overflow": null,
            "overflow_x": null,
            "overflow_y": null,
            "padding": null,
            "right": null,
            "top": null,
            "visibility": null,
            "width": null
          }
        },
        "405465d795774bb79a864307e67340b9": {
          "model_module": "@jupyter-widgets/base",
          "model_module_version": "1.2.0",
          "model_name": "LayoutModel",
          "state": {
            "_model_module": "@jupyter-widgets/base",
            "_model_module_version": "1.2.0",
            "_model_name": "LayoutModel",
            "_view_count": null,
            "_view_module": "@jupyter-widgets/base",
            "_view_module_version": "1.2.0",
            "_view_name": "LayoutView",
            "align_content": null,
            "align_items": null,
            "align_self": null,
            "border": null,
            "bottom": null,
            "display": null,
            "flex": null,
            "flex_flow": null,
            "grid_area": null,
            "grid_auto_columns": null,
            "grid_auto_flow": null,
            "grid_auto_rows": null,
            "grid_column": null,
            "grid_gap": null,
            "grid_row": null,
            "grid_template_areas": null,
            "grid_template_columns": null,
            "grid_template_rows": null,
            "height": null,
            "justify_content": null,
            "justify_items": null,
            "left": null,
            "margin": null,
            "max_height": null,
            "max_width": null,
            "min_height": null,
            "min_width": null,
            "object_fit": null,
            "object_position": null,
            "order": null,
            "overflow": null,
            "overflow_x": null,
            "overflow_y": null,
            "padding": null,
            "right": null,
            "top": null,
            "visibility": null,
            "width": null
          }
        },
        "45c5a037c126472db621671d32ed336b": {
          "model_module": "@jupyter-widgets/controls",
          "model_module_version": "1.5.0",
          "model_name": "FloatProgressModel",
          "state": {
            "_dom_classes": [],
            "_model_module": "@jupyter-widgets/controls",
            "_model_module_version": "1.5.0",
            "_model_name": "FloatProgressModel",
            "_view_count": null,
            "_view_module": "@jupyter-widgets/controls",
            "_view_module_version": "1.5.0",
            "_view_name": "ProgressView",
            "bar_style": "success",
            "description": "",
            "description_tooltip": null,
            "layout": "IPY_MODEL_3388cac91b504bb3bc470c80b291e59c",
            "max": 112,
            "min": 0,
            "orientation": "horizontal",
            "style": "IPY_MODEL_398fccb309724fed9676007cad2e4fb5",
            "value": 112
          }
        },
        "46feddc0f3c74e28a0d82d3e0b7c5281": {
          "model_module": "@jupyter-widgets/base",
          "model_module_version": "1.2.0",
          "model_name": "LayoutModel",
          "state": {
            "_model_module": "@jupyter-widgets/base",
            "_model_module_version": "1.2.0",
            "_model_name": "LayoutModel",
            "_view_count": null,
            "_view_module": "@jupyter-widgets/base",
            "_view_module_version": "1.2.0",
            "_view_name": "LayoutView",
            "align_content": null,
            "align_items": null,
            "align_self": null,
            "border": null,
            "bottom": null,
            "display": null,
            "flex": null,
            "flex_flow": null,
            "grid_area": null,
            "grid_auto_columns": null,
            "grid_auto_flow": null,
            "grid_auto_rows": null,
            "grid_column": null,
            "grid_gap": null,
            "grid_row": null,
            "grid_template_areas": null,
            "grid_template_columns": null,
            "grid_template_rows": null,
            "height": null,
            "justify_content": null,
            "justify_items": null,
            "left": null,
            "margin": null,
            "max_height": null,
            "max_width": null,
            "min_height": null,
            "min_width": null,
            "object_fit": null,
            "object_position": null,
            "order": null,
            "overflow": null,
            "overflow_x": null,
            "overflow_y": null,
            "padding": null,
            "right": null,
            "top": null,
            "visibility": null,
            "width": null
          }
        },
        "491dc29db9d847b79a64333d5792e245": {
          "model_module": "@jupyter-widgets/controls",
          "model_module_version": "1.5.0",
          "model_name": "FloatProgressModel",
          "state": {
            "_dom_classes": [],
            "_model_module": "@jupyter-widgets/controls",
            "_model_module_version": "1.5.0",
            "_model_name": "FloatProgressModel",
            "_view_count": null,
            "_view_module": "@jupyter-widgets/controls",
            "_view_module_version": "1.5.0",
            "_view_name": "ProgressView",
            "bar_style": "success",
            "description": "",
            "description_tooltip": null,
            "layout": "IPY_MODEL_3fd0fd5eec46465c9a8dbb7b72f0e929",
            "max": 497863551,
            "min": 0,
            "orientation": "horizontal",
            "style": "IPY_MODEL_2e78bdaf95e44bce9037fe2a47f9372c",
            "value": 497863551
          }
        },
        "4d2a444468e444079101095c7983c764": {
          "model_module": "@jupyter-widgets/controls",
          "model_module_version": "1.5.0",
          "model_name": "DescriptionStyleModel",
          "state": {
            "_model_module": "@jupyter-widgets/controls",
            "_model_module_version": "1.5.0",
            "_model_name": "DescriptionStyleModel",
            "_view_count": null,
            "_view_module": "@jupyter-widgets/base",
            "_view_module_version": "1.2.0",
            "_view_name": "StyleView",
            "description_width": ""
          }
        },
        "4db232bf2d994b339074354cd1d6caac": {
          "model_module": "@jupyter-widgets/base",
          "model_module_version": "1.2.0",
          "model_name": "LayoutModel",
          "state": {
            "_model_module": "@jupyter-widgets/base",
            "_model_module_version": "1.2.0",
            "_model_name": "LayoutModel",
            "_view_count": null,
            "_view_module": "@jupyter-widgets/base",
            "_view_module_version": "1.2.0",
            "_view_name": "LayoutView",
            "align_content": null,
            "align_items": null,
            "align_self": null,
            "border": null,
            "bottom": null,
            "display": null,
            "flex": null,
            "flex_flow": null,
            "grid_area": null,
            "grid_auto_columns": null,
            "grid_auto_flow": null,
            "grid_auto_rows": null,
            "grid_column": null,
            "grid_gap": null,
            "grid_row": null,
            "grid_template_areas": null,
            "grid_template_columns": null,
            "grid_template_rows": null,
            "height": null,
            "justify_content": null,
            "justify_items": null,
            "left": null,
            "margin": null,
            "max_height": null,
            "max_width": null,
            "min_height": null,
            "min_width": null,
            "object_fit": null,
            "object_position": null,
            "order": null,
            "overflow": null,
            "overflow_x": null,
            "overflow_y": null,
            "padding": null,
            "right": null,
            "top": null,
            "visibility": null,
            "width": null
          }
        },
        "55ad0ad725ad4a26b30c3f940693131e": {
          "model_module": "@jupyter-widgets/controls",
          "model_module_version": "1.5.0",
          "model_name": "HBoxModel",
          "state": {
            "_dom_classes": [],
            "_model_module": "@jupyter-widgets/controls",
            "_model_module_version": "1.5.0",
            "_model_name": "HBoxModel",
            "_view_count": null,
            "_view_module": "@jupyter-widgets/controls",
            "_view_module_version": "1.5.0",
            "_view_name": "HBoxView",
            "box_style": "",
            "children": [
              "IPY_MODEL_147c39e94103439090a77c9efed8f587",
              "IPY_MODEL_ab0e0efdf52e48ed9f939d700fac4566",
              "IPY_MODEL_1502ef6c0aff43999afd9dab02cde339"
            ],
            "layout": "IPY_MODEL_bfc8df457eef43219acacdec92559582"
          }
        },
        "568f892ddf7446aca98a60c781c8e985": {
          "model_module": "@jupyter-widgets/controls",
          "model_module_version": "1.5.0",
          "model_name": "FloatProgressModel",
          "state": {
            "_dom_classes": [],
            "_model_module": "@jupyter-widgets/controls",
            "_model_module_version": "1.5.0",
            "_model_name": "FloatProgressModel",
            "_view_count": null,
            "_view_module": "@jupyter-widgets/controls",
            "_view_module_version": "1.5.0",
            "_view_name": "ProgressView",
            "bar_style": "success",
            "description": "",
            "description_tooltip": null,
            "layout": "IPY_MODEL_c1c44f2d21cb4e2cb5a4da9e6d085fdb",
            "max": 229167,
            "min": 0,
            "orientation": "horizontal",
            "style": "IPY_MODEL_8ff84280b0a1441eaf13601af4d4e5a7",
            "value": 229167
          }
        },
        "66b0d39f015445039d2bd00f35e64539": {
          "model_module": "@jupyter-widgets/controls",
          "model_module_version": "1.5.0",
          "model_name": "HBoxModel",
          "state": {
            "_dom_classes": [],
            "_model_module": "@jupyter-widgets/controls",
            "_model_module_version": "1.5.0",
            "_model_name": "HBoxModel",
            "_view_count": null,
            "_view_module": "@jupyter-widgets/controls",
            "_view_module_version": "1.5.0",
            "_view_name": "HBoxView",
            "box_style": "",
            "children": [
              "IPY_MODEL_013083841197488ab253225f1d95bccb",
              "IPY_MODEL_491dc29db9d847b79a64333d5792e245",
              "IPY_MODEL_3d6cd56fdad2409da41d1b51547bf09e"
            ],
            "layout": "IPY_MODEL_b415bd5d94de400a87a1c690f80f09c1"
          }
        },
        "680f73fda75f4187ab51d5c717d847d9": {
          "model_module": "@jupyter-widgets/controls",
          "model_module_version": "1.5.0",
          "model_name": "FloatProgressModel",
          "state": {
            "_dom_classes": [],
            "_model_module": "@jupyter-widgets/controls",
            "_model_module_version": "1.5.0",
            "_model_name": "FloatProgressModel",
            "_view_count": null,
            "_view_module": "@jupyter-widgets/controls",
            "_view_module_version": "1.5.0",
            "_view_name": "ProgressView",
            "bar_style": "success",
            "description": "",
            "description_tooltip": null,
            "layout": "IPY_MODEL_f6118c400b7d4059b598a563d5ac0c02",
            "max": 2,
            "min": 0,
            "orientation": "horizontal",
            "style": "IPY_MODEL_3fb04559e34d4f8f8098f0c59f773ce4",
            "value": 2
          }
        },
        "70335bef72ff43eea4b73f867880d489": {
          "model_module": "@jupyter-widgets/base",
          "model_module_version": "1.2.0",
          "model_name": "LayoutModel",
          "state": {
            "_model_module": "@jupyter-widgets/base",
            "_model_module_version": "1.2.0",
            "_model_name": "LayoutModel",
            "_view_count": null,
            "_view_module": "@jupyter-widgets/base",
            "_view_module_version": "1.2.0",
            "_view_name": "LayoutView",
            "align_content": null,
            "align_items": null,
            "align_self": null,
            "border": null,
            "bottom": null,
            "display": null,
            "flex": null,
            "flex_flow": null,
            "grid_area": null,
            "grid_auto_columns": null,
            "grid_auto_flow": null,
            "grid_auto_rows": null,
            "grid_column": null,
            "grid_gap": null,
            "grid_row": null,
            "grid_template_areas": null,
            "grid_template_columns": null,
            "grid_template_rows": null,
            "height": null,
            "justify_content": null,
            "justify_items": null,
            "left": null,
            "margin": null,
            "max_height": null,
            "max_width": null,
            "min_height": null,
            "min_width": null,
            "object_fit": null,
            "object_position": null,
            "order": null,
            "overflow": null,
            "overflow_x": null,
            "overflow_y": null,
            "padding": null,
            "right": null,
            "top": null,
            "visibility": null,
            "width": null
          }
        },
        "744ca449962c450a96650423da4f5762": {
          "model_module": "@jupyter-widgets/base",
          "model_module_version": "1.2.0",
          "model_name": "LayoutModel",
          "state": {
            "_model_module": "@jupyter-widgets/base",
            "_model_module_version": "1.2.0",
            "_model_name": "LayoutModel",
            "_view_count": null,
            "_view_module": "@jupyter-widgets/base",
            "_view_module_version": "1.2.0",
            "_view_name": "LayoutView",
            "align_content": null,
            "align_items": null,
            "align_self": null,
            "border": null,
            "bottom": null,
            "display": null,
            "flex": null,
            "flex_flow": null,
            "grid_area": null,
            "grid_auto_columns": null,
            "grid_auto_flow": null,
            "grid_auto_rows": null,
            "grid_column": null,
            "grid_gap": null,
            "grid_row": null,
            "grid_template_areas": null,
            "grid_template_columns": null,
            "grid_template_rows": null,
            "height": null,
            "justify_content": null,
            "justify_items": null,
            "left": null,
            "margin": null,
            "max_height": null,
            "max_width": null,
            "min_height": null,
            "min_width": null,
            "object_fit": null,
            "object_position": null,
            "order": null,
            "overflow": null,
            "overflow_x": null,
            "overflow_y": null,
            "padding": null,
            "right": null,
            "top": null,
            "visibility": null,
            "width": null
          }
        },
        "762a257214e74cbea528dd719f138f03": {
          "model_module": "@jupyter-widgets/base",
          "model_module_version": "1.2.0",
          "model_name": "LayoutModel",
          "state": {
            "_model_module": "@jupyter-widgets/base",
            "_model_module_version": "1.2.0",
            "_model_name": "LayoutModel",
            "_view_count": null,
            "_view_module": "@jupyter-widgets/base",
            "_view_module_version": "1.2.0",
            "_view_name": "LayoutView",
            "align_content": null,
            "align_items": null,
            "align_self": null,
            "border": null,
            "bottom": null,
            "display": null,
            "flex": null,
            "flex_flow": null,
            "grid_area": null,
            "grid_auto_columns": null,
            "grid_auto_flow": null,
            "grid_auto_rows": null,
            "grid_column": null,
            "grid_gap": null,
            "grid_row": null,
            "grid_template_areas": null,
            "grid_template_columns": null,
            "grid_template_rows": null,
            "height": null,
            "justify_content": null,
            "justify_items": null,
            "left": null,
            "margin": null,
            "max_height": null,
            "max_width": null,
            "min_height": null,
            "min_width": null,
            "object_fit": null,
            "object_position": null,
            "order": null,
            "overflow": null,
            "overflow_x": null,
            "overflow_y": null,
            "padding": null,
            "right": null,
            "top": null,
            "visibility": null,
            "width": null
          }
        },
        "80100c415bdf42e0add16fe217dcccd6": {
          "model_module": "@jupyter-widgets/base",
          "model_module_version": "1.2.0",
          "model_name": "LayoutModel",
          "state": {
            "_model_module": "@jupyter-widgets/base",
            "_model_module_version": "1.2.0",
            "_model_name": "LayoutModel",
            "_view_count": null,
            "_view_module": "@jupyter-widgets/base",
            "_view_module_version": "1.2.0",
            "_view_name": "LayoutView",
            "align_content": null,
            "align_items": null,
            "align_self": null,
            "border": null,
            "bottom": null,
            "display": null,
            "flex": null,
            "flex_flow": null,
            "grid_area": null,
            "grid_auto_columns": null,
            "grid_auto_flow": null,
            "grid_auto_rows": null,
            "grid_column": null,
            "grid_gap": null,
            "grid_row": null,
            "grid_template_areas": null,
            "grid_template_columns": null,
            "grid_template_rows": null,
            "height": null,
            "justify_content": null,
            "justify_items": null,
            "left": null,
            "margin": null,
            "max_height": null,
            "max_width": null,
            "min_height": null,
            "min_width": null,
            "object_fit": null,
            "object_position": null,
            "order": null,
            "overflow": null,
            "overflow_x": null,
            "overflow_y": null,
            "padding": null,
            "right": null,
            "top": null,
            "visibility": null,
            "width": null
          }
        },
        "86a8a49097dc4655b6497602c6e02574": {
          "model_module": "@jupyter-widgets/base",
          "model_module_version": "1.2.0",
          "model_name": "LayoutModel",
          "state": {
            "_model_module": "@jupyter-widgets/base",
            "_model_module_version": "1.2.0",
            "_model_name": "LayoutModel",
            "_view_count": null,
            "_view_module": "@jupyter-widgets/base",
            "_view_module_version": "1.2.0",
            "_view_name": "LayoutView",
            "align_content": null,
            "align_items": null,
            "align_self": null,
            "border": null,
            "bottom": null,
            "display": null,
            "flex": null,
            "flex_flow": null,
            "grid_area": null,
            "grid_auto_columns": null,
            "grid_auto_flow": null,
            "grid_auto_rows": null,
            "grid_column": null,
            "grid_gap": null,
            "grid_row": null,
            "grid_template_areas": null,
            "grid_template_columns": null,
            "grid_template_rows": null,
            "height": null,
            "justify_content": null,
            "justify_items": null,
            "left": null,
            "margin": null,
            "max_height": null,
            "max_width": null,
            "min_height": null,
            "min_width": null,
            "object_fit": null,
            "object_position": null,
            "order": null,
            "overflow": null,
            "overflow_x": null,
            "overflow_y": null,
            "padding": null,
            "right": null,
            "top": null,
            "visibility": null,
            "width": null
          }
        },
        "8e1ecaa64ee947ffb0fd1c4f7dea4e8b": {
          "model_module": "@jupyter-widgets/controls",
          "model_module_version": "1.5.0",
          "model_name": "HTMLModel",
          "state": {
            "_dom_classes": [],
            "_model_module": "@jupyter-widgets/controls",
            "_model_module_version": "1.5.0",
            "_model_name": "HTMLModel",
            "_view_count": null,
            "_view_module": "@jupyter-widgets/controls",
            "_view_module_version": "1.5.0",
            "_view_name": "HTMLView",
            "description": "",
            "description_tooltip": null,
            "layout": "IPY_MODEL_86a8a49097dc4655b6497602c6e02574",
            "placeholder": "​",
            "style": "IPY_MODEL_d8df20735bbe4159adf813cda4ffb24a",
            "value": "Downloading (…)cial_tokens_map.json: 100%"
          }
        },
        "8ff84280b0a1441eaf13601af4d4e5a7": {
          "model_module": "@jupyter-widgets/controls",
          "model_module_version": "1.5.0",
          "model_name": "ProgressStyleModel",
          "state": {
            "_model_module": "@jupyter-widgets/controls",
            "_model_module_version": "1.5.0",
            "_model_name": "ProgressStyleModel",
            "_view_count": null,
            "_view_module": "@jupyter-widgets/base",
            "_view_module_version": "1.2.0",
            "_view_name": "StyleView",
            "bar_color": null,
            "description_width": ""
          }
        },
        "9b96ff39349d44408b51e65ad5a26692": {
          "model_module": "@jupyter-widgets/controls",
          "model_module_version": "1.5.0",
          "model_name": "DescriptionStyleModel",
          "state": {
            "_model_module": "@jupyter-widgets/controls",
            "_model_module_version": "1.5.0",
            "_model_name": "DescriptionStyleModel",
            "_view_count": null,
            "_view_module": "@jupyter-widgets/base",
            "_view_module_version": "1.2.0",
            "_view_name": "StyleView",
            "description_width": ""
          }
        },
        "9cf64448d2064cdfad011b6e72d6907a": {
          "model_module": "@jupyter-widgets/base",
          "model_module_version": "1.2.0",
          "model_name": "LayoutModel",
          "state": {
            "_model_module": "@jupyter-widgets/base",
            "_model_module_version": "1.2.0",
            "_model_name": "LayoutModel",
            "_view_count": null,
            "_view_module": "@jupyter-widgets/base",
            "_view_module_version": "1.2.0",
            "_view_name": "LayoutView",
            "align_content": null,
            "align_items": null,
            "align_self": null,
            "border": null,
            "bottom": null,
            "display": null,
            "flex": null,
            "flex_flow": null,
            "grid_area": null,
            "grid_auto_columns": null,
            "grid_auto_flow": null,
            "grid_auto_rows": null,
            "grid_column": null,
            "grid_gap": null,
            "grid_row": null,
            "grid_template_areas": null,
            "grid_template_columns": null,
            "grid_template_rows": null,
            "height": null,
            "justify_content": null,
            "justify_items": null,
            "left": null,
            "margin": null,
            "max_height": null,
            "max_width": null,
            "min_height": null,
            "min_width": null,
            "object_fit": null,
            "object_position": null,
            "order": null,
            "overflow": null,
            "overflow_x": null,
            "overflow_y": null,
            "padding": null,
            "right": null,
            "top": null,
            "visibility": null,
            "width": null
          }
        },
        "ab0e0efdf52e48ed9f939d700fac4566": {
          "model_module": "@jupyter-widgets/controls",
          "model_module_version": "1.5.0",
          "model_name": "FloatProgressModel",
          "state": {
            "_dom_classes": [],
            "_model_module": "@jupyter-widgets/controls",
            "_model_module_version": "1.5.0",
            "_model_name": "FloatProgressModel",
            "_view_count": null,
            "_view_module": "@jupyter-widgets/controls",
            "_view_module_version": "1.5.0",
            "_view_name": "ProgressView",
            "bar_style": "success",
            "description": "",
            "description_tooltip": null,
            "layout": "IPY_MODEL_1c4cace361b743fdaac36e1f79c15388",
            "max": 1173,
            "min": 0,
            "orientation": "horizontal",
            "style": "IPY_MODEL_be9d2dc0d81247f182c9afa27fc12c70",
            "value": 1173
          }
        },
        "ab1dedf47ac141d4895e37bad6aa330f": {
          "model_module": "@jupyter-widgets/controls",
          "model_module_version": "1.5.0",
          "model_name": "HTMLModel",
          "state": {
            "_dom_classes": [],
            "_model_module": "@jupyter-widgets/controls",
            "_model_module_version": "1.5.0",
            "_model_name": "HTMLModel",
            "_view_count": null,
            "_view_module": "@jupyter-widgets/controls",
            "_view_module_version": "1.5.0",
            "_view_name": "HTMLView",
            "description": "",
            "description_tooltip": null,
            "layout": "IPY_MODEL_744ca449962c450a96650423da4f5762",
            "placeholder": "​",
            "style": "IPY_MODEL_4d2a444468e444079101095c7983c764",
            "value": "Downloading (…)solve/main/vocab.txt: 100%"
          }
        },
        "b415bd5d94de400a87a1c690f80f09c1": {
          "model_module": "@jupyter-widgets/base",
          "model_module_version": "1.2.0",
          "model_name": "LayoutModel",
          "state": {
            "_model_module": "@jupyter-widgets/base",
            "_model_module_version": "1.2.0",
            "_model_name": "LayoutModel",
            "_view_count": null,
            "_view_module": "@jupyter-widgets/base",
            "_view_module_version": "1.2.0",
            "_view_name": "LayoutView",
            "align_content": null,
            "align_items": null,
            "align_self": null,
            "border": null,
            "bottom": null,
            "display": null,
            "flex": null,
            "flex_flow": null,
            "grid_area": null,
            "grid_auto_columns": null,
            "grid_auto_flow": null,
            "grid_auto_rows": null,
            "grid_column": null,
            "grid_gap": null,
            "grid_row": null,
            "grid_template_areas": null,
            "grid_template_columns": null,
            "grid_template_rows": null,
            "height": null,
            "justify_content": null,
            "justify_items": null,
            "left": null,
            "margin": null,
            "max_height": null,
            "max_width": null,
            "min_height": null,
            "min_width": null,
            "object_fit": null,
            "object_position": null,
            "order": null,
            "overflow": null,
            "overflow_x": null,
            "overflow_y": null,
            "padding": null,
            "right": null,
            "top": null,
            "visibility": null,
            "width": null
          }
        },
        "b6ec30cc14b54147b933424a6577c5db": {
          "model_module": "@jupyter-widgets/base",
          "model_module_version": "1.2.0",
          "model_name": "LayoutModel",
          "state": {
            "_model_module": "@jupyter-widgets/base",
            "_model_module_version": "1.2.0",
            "_model_name": "LayoutModel",
            "_view_count": null,
            "_view_module": "@jupyter-widgets/base",
            "_view_module_version": "1.2.0",
            "_view_name": "LayoutView",
            "align_content": null,
            "align_items": null,
            "align_self": null,
            "border": null,
            "bottom": null,
            "display": null,
            "flex": null,
            "flex_flow": null,
            "grid_area": null,
            "grid_auto_columns": null,
            "grid_auto_flow": null,
            "grid_auto_rows": null,
            "grid_column": null,
            "grid_gap": null,
            "grid_row": null,
            "grid_template_areas": null,
            "grid_template_columns": null,
            "grid_template_rows": null,
            "height": null,
            "justify_content": null,
            "justify_items": null,
            "left": null,
            "margin": null,
            "max_height": null,
            "max_width": null,
            "min_height": null,
            "min_width": null,
            "object_fit": null,
            "object_position": null,
            "order": null,
            "overflow": null,
            "overflow_x": null,
            "overflow_y": null,
            "padding": null,
            "right": null,
            "top": null,
            "visibility": null,
            "width": null
          }
        },
        "be9d2dc0d81247f182c9afa27fc12c70": {
          "model_module": "@jupyter-widgets/controls",
          "model_module_version": "1.5.0",
          "model_name": "ProgressStyleModel",
          "state": {
            "_model_module": "@jupyter-widgets/controls",
            "_model_module_version": "1.5.0",
            "_model_name": "ProgressStyleModel",
            "_view_count": null,
            "_view_module": "@jupyter-widgets/base",
            "_view_module_version": "1.2.0",
            "_view_name": "StyleView",
            "bar_color": null,
            "description_width": ""
          }
        },
        "bfc8df457eef43219acacdec92559582": {
          "model_module": "@jupyter-widgets/base",
          "model_module_version": "1.2.0",
          "model_name": "LayoutModel",
          "state": {
            "_model_module": "@jupyter-widgets/base",
            "_model_module_version": "1.2.0",
            "_model_name": "LayoutModel",
            "_view_count": null,
            "_view_module": "@jupyter-widgets/base",
            "_view_module_version": "1.2.0",
            "_view_name": "LayoutView",
            "align_content": null,
            "align_items": null,
            "align_self": null,
            "border": null,
            "bottom": null,
            "display": null,
            "flex": null,
            "flex_flow": null,
            "grid_area": null,
            "grid_auto_columns": null,
            "grid_auto_flow": null,
            "grid_auto_rows": null,
            "grid_column": null,
            "grid_gap": null,
            "grid_row": null,
            "grid_template_areas": null,
            "grid_template_columns": null,
            "grid_template_rows": null,
            "height": null,
            "justify_content": null,
            "justify_items": null,
            "left": null,
            "margin": null,
            "max_height": null,
            "max_width": null,
            "min_height": null,
            "min_width": null,
            "object_fit": null,
            "object_position": null,
            "order": null,
            "overflow": null,
            "overflow_x": null,
            "overflow_y": null,
            "padding": null,
            "right": null,
            "top": null,
            "visibility": null,
            "width": null
          }
        },
        "c1c44f2d21cb4e2cb5a4da9e6d085fdb": {
          "model_module": "@jupyter-widgets/base",
          "model_module_version": "1.2.0",
          "model_name": "LayoutModel",
          "state": {
            "_model_module": "@jupyter-widgets/base",
            "_model_module_version": "1.2.0",
            "_model_name": "LayoutModel",
            "_view_count": null,
            "_view_module": "@jupyter-widgets/base",
            "_view_module_version": "1.2.0",
            "_view_name": "LayoutView",
            "align_content": null,
            "align_items": null,
            "align_self": null,
            "border": null,
            "bottom": null,
            "display": null,
            "flex": null,
            "flex_flow": null,
            "grid_area": null,
            "grid_auto_columns": null,
            "grid_auto_flow": null,
            "grid_auto_rows": null,
            "grid_column": null,
            "grid_gap": null,
            "grid_row": null,
            "grid_template_areas": null,
            "grid_template_columns": null,
            "grid_template_rows": null,
            "height": null,
            "justify_content": null,
            "justify_items": null,
            "left": null,
            "margin": null,
            "max_height": null,
            "max_width": null,
            "min_height": null,
            "min_width": null,
            "object_fit": null,
            "object_position": null,
            "order": null,
            "overflow": null,
            "overflow_x": null,
            "overflow_y": null,
            "padding": null,
            "right": null,
            "top": null,
            "visibility": null,
            "width": null
          }
        },
        "c26c171c67284c3ea9df3d066d1a90d5": {
          "model_module": "@jupyter-widgets/controls",
          "model_module_version": "1.5.0",
          "model_name": "DescriptionStyleModel",
          "state": {
            "_model_module": "@jupyter-widgets/controls",
            "_model_module_version": "1.5.0",
            "_model_name": "DescriptionStyleModel",
            "_view_count": null,
            "_view_module": "@jupyter-widgets/base",
            "_view_module_version": "1.2.0",
            "_view_name": "StyleView",
            "description_width": ""
          }
        },
        "c39be4826ffa4b6a9f59dba68b85df1a": {
          "model_module": "@jupyter-widgets/controls",
          "model_module_version": "1.5.0",
          "model_name": "HBoxModel",
          "state": {
            "_dom_classes": [],
            "_model_module": "@jupyter-widgets/controls",
            "_model_module_version": "1.5.0",
            "_model_name": "HBoxModel",
            "_view_count": null,
            "_view_module": "@jupyter-widgets/controls",
            "_view_module_version": "1.5.0",
            "_view_name": "HBoxView",
            "box_style": "",
            "children": [
              "IPY_MODEL_2c432eded27141f2b3c3677ae94e1955",
              "IPY_MODEL_680f73fda75f4187ab51d5c717d847d9",
              "IPY_MODEL_f54bbd5711b743ddbbe310aacbaa62fd"
            ],
            "layout": "IPY_MODEL_c684e6d0bd2c4fefbf2887cc4ffdb5aa"
          }
        },
        "c53c3f1cb9ca4510bd7f0f79b67180ab": {
          "model_module": "@jupyter-widgets/controls",
          "model_module_version": "1.5.0",
          "model_name": "DescriptionStyleModel",
          "state": {
            "_model_module": "@jupyter-widgets/controls",
            "_model_module_version": "1.5.0",
            "_model_name": "DescriptionStyleModel",
            "_view_count": null,
            "_view_module": "@jupyter-widgets/base",
            "_view_module_version": "1.2.0",
            "_view_name": "StyleView",
            "description_width": ""
          }
        },
        "c684e6d0bd2c4fefbf2887cc4ffdb5aa": {
          "model_module": "@jupyter-widgets/base",
          "model_module_version": "1.2.0",
          "model_name": "LayoutModel",
          "state": {
            "_model_module": "@jupyter-widgets/base",
            "_model_module_version": "1.2.0",
            "_model_name": "LayoutModel",
            "_view_count": null,
            "_view_module": "@jupyter-widgets/base",
            "_view_module_version": "1.2.0",
            "_view_name": "LayoutView",
            "align_content": null,
            "align_items": null,
            "align_self": null,
            "border": null,
            "bottom": null,
            "display": null,
            "flex": null,
            "flex_flow": null,
            "grid_area": null,
            "grid_auto_columns": null,
            "grid_auto_flow": null,
            "grid_auto_rows": null,
            "grid_column": null,
            "grid_gap": null,
            "grid_row": null,
            "grid_template_areas": null,
            "grid_template_columns": null,
            "grid_template_rows": null,
            "height": null,
            "justify_content": null,
            "justify_items": null,
            "left": null,
            "margin": null,
            "max_height": null,
            "max_width": null,
            "min_height": null,
            "min_width": null,
            "object_fit": null,
            "object_position": null,
            "order": null,
            "overflow": null,
            "overflow_x": null,
            "overflow_y": null,
            "padding": null,
            "right": null,
            "top": null,
            "visibility": null,
            "width": null
          }
        },
        "c7e263e5bb2b40a58e2f9ca2bf54e343": {
          "model_module": "@jupyter-widgets/controls",
          "model_module_version": "1.5.0",
          "model_name": "DescriptionStyleModel",
          "state": {
            "_model_module": "@jupyter-widgets/controls",
            "_model_module_version": "1.5.0",
            "_model_name": "DescriptionStyleModel",
            "_view_count": null,
            "_view_module": "@jupyter-widgets/base",
            "_view_module_version": "1.2.0",
            "_view_name": "StyleView",
            "description_width": ""
          }
        },
        "d8df20735bbe4159adf813cda4ffb24a": {
          "model_module": "@jupyter-widgets/controls",
          "model_module_version": "1.5.0",
          "model_name": "DescriptionStyleModel",
          "state": {
            "_model_module": "@jupyter-widgets/controls",
            "_model_module_version": "1.5.0",
            "_model_name": "DescriptionStyleModel",
            "_view_count": null,
            "_view_module": "@jupyter-widgets/base",
            "_view_module_version": "1.2.0",
            "_view_name": "StyleView",
            "description_width": ""
          }
        },
        "e325f5f29e404f93817a5b7192804d07": {
          "model_module": "@jupyter-widgets/controls",
          "model_module_version": "1.5.0",
          "model_name": "HBoxModel",
          "state": {
            "_dom_classes": [],
            "_model_module": "@jupyter-widgets/controls",
            "_model_module_version": "1.5.0",
            "_model_name": "HBoxModel",
            "_view_count": null,
            "_view_module": "@jupyter-widgets/controls",
            "_view_module_version": "1.5.0",
            "_view_name": "HBoxView",
            "box_style": "",
            "children": [
              "IPY_MODEL_8e1ecaa64ee947ffb0fd1c4f7dea4e8b",
              "IPY_MODEL_45c5a037c126472db621671d32ed336b",
              "IPY_MODEL_f37c70a956af4e6ba04a0934b299cf6e"
            ],
            "layout": "IPY_MODEL_9cf64448d2064cdfad011b6e72d6907a"
          }
        },
        "f37c70a956af4e6ba04a0934b299cf6e": {
          "model_module": "@jupyter-widgets/controls",
          "model_module_version": "1.5.0",
          "model_name": "HTMLModel",
          "state": {
            "_dom_classes": [],
            "_model_module": "@jupyter-widgets/controls",
            "_model_module_version": "1.5.0",
            "_model_name": "HTMLModel",
            "_view_count": null,
            "_view_module": "@jupyter-widgets/controls",
            "_view_module_version": "1.5.0",
            "_view_name": "HTMLView",
            "description": "",
            "description_tooltip": null,
            "layout": "IPY_MODEL_762a257214e74cbea528dd719f138f03",
            "placeholder": "​",
            "style": "IPY_MODEL_0ad4a67105b24653aefdfbf9efc5e4e4",
            "value": " 112/112 [00:00&lt;00:00, 8.36kB/s]"
          }
        },
        "f54bbd5711b743ddbbe310aacbaa62fd": {
          "model_module": "@jupyter-widgets/controls",
          "model_module_version": "1.5.0",
          "model_name": "HTMLModel",
          "state": {
            "_dom_classes": [],
            "_model_module": "@jupyter-widgets/controls",
            "_model_module_version": "1.5.0",
            "_model_name": "HTMLModel",
            "_view_count": null,
            "_view_module": "@jupyter-widgets/controls",
            "_view_module_version": "1.5.0",
            "_view_name": "HTMLView",
            "description": "",
            "description_tooltip": null,
            "layout": "IPY_MODEL_4db232bf2d994b339074354cd1d6caac",
            "placeholder": "​",
            "style": "IPY_MODEL_c26c171c67284c3ea9df3d066d1a90d5",
            "value": " 2.00/2.00 [00:00&lt;00:00, 131B/s]"
          }
        },
        "f6118c400b7d4059b598a563d5ac0c02": {
          "model_module": "@jupyter-widgets/base",
          "model_module_version": "1.2.0",
          "model_name": "LayoutModel",
          "state": {
            "_model_module": "@jupyter-widgets/base",
            "_model_module_version": "1.2.0",
            "_model_name": "LayoutModel",
            "_view_count": null,
            "_view_module": "@jupyter-widgets/base",
            "_view_module_version": "1.2.0",
            "_view_name": "LayoutView",
            "align_content": null,
            "align_items": null,
            "align_self": null,
            "border": null,
            "bottom": null,
            "display": null,
            "flex": null,
            "flex_flow": null,
            "grid_area": null,
            "grid_auto_columns": null,
            "grid_auto_flow": null,
            "grid_auto_rows": null,
            "grid_column": null,
            "grid_gap": null,
            "grid_row": null,
            "grid_template_areas": null,
            "grid_template_columns": null,
            "grid_template_rows": null,
            "height": null,
            "justify_content": null,
            "justify_items": null,
            "left": null,
            "margin": null,
            "max_height": null,
            "max_width": null,
            "min_height": null,
            "min_width": null,
            "object_fit": null,
            "object_position": null,
            "order": null,
            "overflow": null,
            "overflow_x": null,
            "overflow_y": null,
            "padding": null,
            "right": null,
            "top": null,
            "visibility": null,
            "width": null
          }
        }
      }
    }
  },
  "nbformat": 4,
  "nbformat_minor": 0
}